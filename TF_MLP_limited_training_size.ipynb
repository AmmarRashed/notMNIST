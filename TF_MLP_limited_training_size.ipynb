{
 "cells": [
  {
   "cell_type": "code",
   "execution_count": 1,
   "metadata": {},
   "outputs": [],
   "source": [
    "from __future__ import print_function, division, absolute_import\n",
    "from six.moves import cPickle as pickle"
   ]
  },
  {
   "cell_type": "code",
   "execution_count": 2,
   "metadata": {},
   "outputs": [
    {
     "name": "stderr",
     "output_type": "stream",
     "text": [
      "/usr/local/lib/python3.5/dist-packages/h5py/__init__.py:36: FutureWarning: Conversion of the second argument of issubdtype from `float` to `np.floating` is deprecated. In future, it will be treated as `np.float64 == np.dtype(float).type`.\n",
      "  from ._conv import register_converters as _register_converters\n"
     ]
    }
   ],
   "source": [
    "import os, time\n",
    "\n",
    "import numpy as np\n",
    "\n",
    "import tensorflow as tf"
   ]
  },
  {
   "cell_type": "code",
   "execution_count": 3,
   "metadata": {},
   "outputs": [],
   "source": [
    "from matplotlib import pyplot as plt\n",
    "%matplotlib inline"
   ]
  },
  {
   "cell_type": "markdown",
   "metadata": {},
   "source": [
    "### Loading data"
   ]
  },
  {
   "cell_type": "code",
   "execution_count": 4,
   "metadata": {},
   "outputs": [],
   "source": [
    "image_size = 28\n",
    "pixel_depth = 255\n",
    "data_root = 'data'"
   ]
  },
  {
   "cell_type": "code",
   "execution_count": 5,
   "metadata": {},
   "outputs": [
    {
     "name": "stdout",
     "output_type": "stream",
     "text": [
      "(529114, 784) (18724, 784)\n"
     ]
    }
   ],
   "source": [
    "pickle_file  = os.path.join(data_root, 'notMNIST.pickle')\n",
    "keys = [\"{0}_{1}\".format(t,x) for t in [\"train\",\"test\"] for x in \"Xy\"]+[\"labels_dict\"]\n",
    "with open(pickle_file, 'rb') as f:\n",
    "    pi = pickle.load(f)\n",
    "    for k in keys:\n",
    "        globals()[k] = pi[k]\n",
    "print(train_X.shape, test_X.shape)"
   ]
  },
  {
   "cell_type": "code",
   "execution_count": 6,
   "metadata": {},
   "outputs": [
    {
     "data": {
      "text/plain": [
       "{'A': 0,\n",
       " 'B': 1,\n",
       " 'C': 2,\n",
       " 'D': 3,\n",
       " 'E': 4,\n",
       " 'F': 5,\n",
       " 'G': 6,\n",
       " 'H': 7,\n",
       " 'I': 8,\n",
       " 'J': 9}"
      ]
     },
     "execution_count": 6,
     "metadata": {},
     "output_type": "execute_result"
    }
   ],
   "source": [
    "nclasses = len(labels_dict)\n",
    "labels_dict"
   ]
  },
  {
   "cell_type": "code",
   "execution_count": 7,
   "metadata": {},
   "outputs": [],
   "source": [
    "def to_onehot(labels, nclasses):\n",
    "    onehot = np.zeros(shape=(len(labels), nclasses))\n",
    "    for i, label in enumerate(labels):\n",
    "        onehot[i, int(label)] = 1\n",
    "    return onehot\n",
    "\n",
    "test_y = to_onehot(test_y, nclasses)"
   ]
  },
  {
   "cell_type": "code",
   "execution_count": 8,
   "metadata": {},
   "outputs": [],
   "source": [
    "def generate_batch(batch_size=10):\n",
    "    global train_X, train_y, labels_dict\n",
    "    j = 0\n",
    "    while 1:\n",
    "        i = j\n",
    "        if i+batch_size < len(train_X):\n",
    "            j = i + batch_size\n",
    "            raw_labels = train_y[i:i+batch_size]\n",
    "            yield train_X[i:i+batch_size], to_onehot(raw_labels.flatten(), len(labels_dict))\n",
    "        else:\n",
    "            j = 0\n",
    "            raw_labels = np.concatenate((train_y[i:], train_y[0:batch_size-(len(train_y)-i)]))\n",
    "            yield np.concatenate((train_X[i:], train_X[0:batch_size-(len(train_X)-i)])),\\\n",
    "                    to_onehot(raw_labels.flatten(), len(labels_dict))\n",
    "        "
   ]
  },
  {
   "cell_type": "code",
   "execution_count": 9,
   "metadata": {},
   "outputs": [],
   "source": [
    "epochs = 100000\n",
    "learning_rate = 0.1\n",
    "batch_size = 100"
   ]
  },
  {
   "cell_type": "code",
   "execution_count": 10,
   "metadata": {},
   "outputs": [],
   "source": [
    "g = generate_batch(batch_size)\n",
    "batch_X, batch_y = g.__next__()"
   ]
  },
  {
   "cell_type": "code",
   "execution_count": 11,
   "metadata": {},
   "outputs": [],
   "source": [
    "def run_session(graph):\n",
    "    start = time.time()\n",
    "    accuracies = dict()\n",
    "    losses = dict()\n",
    "    with tf.Session(graph=graph) as sess:\n",
    "        with tf.device(\"/gpu\"):\n",
    "            init.run()\n",
    "            print(\"Variables initialized\")\n",
    "            average_loss = 0\n",
    "            for e in range(epochs+1):\n",
    "                feed_dict = {train_inputs:batch_X, train_labels:batch_y}\n",
    "                _, loss = sess.run([optimizer, cross_entropy], feed_dict=feed_dict)\n",
    "                average_loss += np.mean(loss)\n",
    "                if e%1000 == 0:\n",
    "                    if e%5000 == 0:\n",
    "                        print(\"Epoch {0}\\nCross-entropy loss: {1}\".format(e,average_loss/1000 if e>0 else average_loss))\n",
    "\n",
    "                    losses[e] = average_loss\n",
    "                    average_loss = 0\n",
    "                    accuracy_ = sess.run([accuracy], feed_dict={test_inputs:test_X, test_labels:test_y})\n",
    "                    accuracy_ = np.mean(accuracy_)\n",
    "                    accuracies[e] = accuracy_\n",
    "                    if e%5000==0:\n",
    "                        print(\"Accuracy:{0}\".format(accuracy_))\n",
    "                        print(\"~\"*40)\n",
    "    print(\"Took: {}\".format(time.time()-start))\n",
    "\n",
    "    fig, ax1 = plt.subplots(figsize=(12,7))\n",
    "    xticks = sorted(accuracies.keys())\n",
    "    data1 = [accuracies[i] for i in xticks]\n",
    "    data2 = [losses[i] for i in xticks]\n",
    "\n",
    "    color = 'tab:blue'\n",
    "    ax1.set_xlabel('Epochs')\n",
    "    ax1.set_ylabel('Accuracy', color=color)\n",
    "    ax1.plot(xticks, data1, color=color)\n",
    "    ax1.tick_params(axis='y', labelcolor=color)\n",
    "\n",
    "    ax2 = ax1.twinx()  # instantiate a second axes that shares the same x-axis\n",
    "\n",
    "    color = 'tab:red'\n",
    "    ax2.set_ylabel('Cross-entropy loss', color=color)\n",
    "    ax2.plot(xticks, data2, color=color)\n",
    "    ax2.tick_params(axis='y', labelcolor=color)\n",
    "\n",
    "    fig.tight_layout()  # otherwise the right y-label is slightly clipped"
   ]
  },
  {
   "cell_type": "markdown",
   "metadata": {},
   "source": [
    "### No regularization"
   ]
  },
  {
   "cell_type": "code",
   "execution_count": 12,
   "metadata": {},
   "outputs": [
    {
     "name": "stdout",
     "output_type": "stream",
     "text": [
      "WARNING:tensorflow:From <ipython-input-12-5d5a4ae9dad0>:20: softmax_cross_entropy_with_logits (from tensorflow.python.ops.nn_ops) is deprecated and will be removed in a future version.\n",
      "Instructions for updating:\n",
      "\n",
      "Future major versions of TensorFlow will allow gradients to flow\n",
      "into the labels input on backprop by default.\n",
      "\n",
      "See tf.nn.softmax_cross_entropy_with_logits_v2.\n",
      "\n"
     ]
    }
   ],
   "source": [
    "graph = tf.Graph()\n",
    "\n",
    "with graph.as_default():\n",
    "    with tf.name_scope(\"inputs\"):\n",
    "        train_inputs = tf.placeholder(tf.float32, shape=[batch_size, image_size*image_size])\n",
    "        train_labels = tf.placeholder(tf.int32, shape=[batch_size, nclasses])\n",
    "\n",
    "        W1 = tf.Variable(tf.random_normal(shape=[image_size*image_size, image_size*image_size], stddev=0.1))\n",
    "        b1 = tf.Variable(tf.zeros(shape=[image_size*image_size]))\n",
    "\n",
    "        h1 = tf.nn.relu(\n",
    "            tf.add(tf.matmul(train_inputs, W1), b1))\n",
    "        \n",
    "        W2 = tf.Variable(tf.random_normal(shape=[image_size*image_size, nclasses], stddev=0.1))\n",
    "        b2 = tf.Variable(tf.zeros(shape=[nclasses]))\n",
    "        \n",
    "        logits = tf.add(tf.matmul(h1,W2), b2)\n",
    "\n",
    "    with tf.name_scope(\"Loss\"):\n",
    "        cross_entropy = tf.reduce_mean(tf.nn.softmax_cross_entropy_with_logits(logits=logits, labels=train_labels))\n",
    "\n",
    "    with tf.name_scope(\"Optimizer\"):\n",
    "        optimizer = tf.train.GradientDescentOptimizer(learning_rate).minimize(cross_entropy)\n",
    "        \n",
    "    with tf.name_scope(\"Predictions\"):\n",
    "        test_inputs = tf.placeholder(tf.float32, shape=[None, image_size*image_size])\n",
    "        test_labels = tf.placeholder(tf.int32, shape=[None, nclasses])\n",
    "        h1_test = tf.nn.relu(\n",
    "            tf.add(tf.matmul(test_inputs, W1), b1))\n",
    "        test_logits = tf.add(tf.matmul(h1_test, W2), b2, name=\"test_logits\")\n",
    "        prediction_probs = tf.nn.softmax(test_logits)\n",
    "        predictions = tf.argmax(prediction_probs, 1)\n",
    "        \n",
    "    with tf.name_scope(\"Accuracy\"):\n",
    "        target = tf.argmax(test_labels, 1)\n",
    "        correct = tf.equal(predictions, target)\n",
    "        accuracy = tf.reduce_mean(tf.cast(correct, \"float\"))\n",
    "    init = tf.global_variables_initializer()"
   ]
  },
  {
   "cell_type": "code",
   "execution_count": 13,
   "metadata": {
    "scrolled": false
   },
   "outputs": [
    {
     "name": "stdout",
     "output_type": "stream",
     "text": [
      "Variables initialized\n",
      "Epoch 0\n",
      "Cross-entropy loss: 7.798101902008057\n",
      "Accuracy:0.2905896306037903\n",
      "~~~~~~~~~~~~~~~~~~~~~~~~~~~~~~~~~~~~~~~~\n",
      "Epoch 5000\n",
      "Cross-entropy loss: 2.6962661768266115e-05\n",
      "Accuracy:0.6717581748962402\n",
      "~~~~~~~~~~~~~~~~~~~~~~~~~~~~~~~~~~~~~~~~\n",
      "Epoch 10000\n",
      "Cross-entropy loss: 1.3984041901494493e-05\n",
      "Accuracy:0.6762443780899048\n",
      "~~~~~~~~~~~~~~~~~~~~~~~~~~~~~~~~~~~~~~~~\n",
      "Epoch 15000\n",
      "Cross-entropy loss: 9.586873541593377e-06\n",
      "Accuracy:0.6791818141937256\n",
      "~~~~~~~~~~~~~~~~~~~~~~~~~~~~~~~~~~~~~~~~\n",
      "Epoch 20000\n",
      "Cross-entropy loss: 7.346904819314659e-06\n",
      "Accuracy:0.6807306408882141\n",
      "~~~~~~~~~~~~~~~~~~~~~~~~~~~~~~~~~~~~~~~~\n",
      "Epoch 25000\n",
      "Cross-entropy loss: 5.985207366393297e-06\n",
      "Accuracy:0.6815851330757141\n",
      "~~~~~~~~~~~~~~~~~~~~~~~~~~~~~~~~~~~~~~~~\n",
      "Epoch 30000\n",
      "Cross-entropy loss: 5.080673937754909e-06\n",
      "Accuracy:0.6836680173873901\n",
      "~~~~~~~~~~~~~~~~~~~~~~~~~~~~~~~~~~~~~~~~\n",
      "Epoch 35000\n",
      "Cross-entropy loss: 4.432022756191145e-06\n",
      "Accuracy:0.6848430037498474\n",
      "~~~~~~~~~~~~~~~~~~~~~~~~~~~~~~~~~~~~~~~~\n",
      "Epoch 40000\n",
      "Cross-entropy loss: 3.946190192436916e-06\n",
      "Accuracy:0.6858577132225037\n",
      "~~~~~~~~~~~~~~~~~~~~~~~~~~~~~~~~~~~~~~~~\n",
      "Epoch 45000\n",
      "Cross-entropy loss: 3.5625589207484155e-06\n",
      "Accuracy:0.6869258880615234\n",
      "~~~~~~~~~~~~~~~~~~~~~~~~~~~~~~~~~~~~~~~~\n",
      "Epoch 50000\n",
      "Cross-entropy loss: 3.2593918651855346e-06\n",
      "Accuracy:0.6870861053466797\n",
      "~~~~~~~~~~~~~~~~~~~~~~~~~~~~~~~~~~~~~~~~\n",
      "Epoch 55000\n",
      "Cross-entropy loss: 3.008311398389196e-06\n",
      "Accuracy:0.6874599456787109\n",
      "~~~~~~~~~~~~~~~~~~~~~~~~~~~~~~~~~~~~~~~~\n",
      "Epoch 60000\n",
      "Cross-entropy loss: 2.7898331206870354e-06\n",
      "Accuracy:0.6877803802490234\n",
      "~~~~~~~~~~~~~~~~~~~~~~~~~~~~~~~~~~~~~~~~\n",
      "Epoch 65000\n",
      "Cross-entropy loss: 2.613508085914873e-06\n",
      "Accuracy:0.6882076263427734\n",
      "~~~~~~~~~~~~~~~~~~~~~~~~~~~~~~~~~~~~~~~~\n",
      "Epoch 70000\n",
      "Cross-entropy loss: 2.458097192857167e-06\n",
      "Accuracy:0.6885281205177307\n",
      "~~~~~~~~~~~~~~~~~~~~~~~~~~~~~~~~~~~~~~~~\n",
      "Epoch 75000\n",
      "Cross-entropy loss: 2.3247480498866936e-06\n",
      "Accuracy:0.688688337802887\n",
      "~~~~~~~~~~~~~~~~~~~~~~~~~~~~~~~~~~~~~~~~\n",
      "Epoch 80000\n",
      "Cross-entropy loss: 2.2122245691207355e-06\n",
      "Accuracy:0.689115583896637\n",
      "~~~~~~~~~~~~~~~~~~~~~~~~~~~~~~~~~~~~~~~~\n",
      "Epoch 85000\n",
      "Cross-entropy loss: 2.0939598662153e-06\n",
      "Accuracy:0.6893826127052307\n",
      "~~~~~~~~~~~~~~~~~~~~~~~~~~~~~~~~~~~~~~~~\n",
      "Epoch 90000\n",
      "Cross-entropy loss: 2.007656333717023e-06\n",
      "Accuracy:0.6894360184669495\n",
      "~~~~~~~~~~~~~~~~~~~~~~~~~~~~~~~~~~~~~~~~\n",
      "Epoch 95000\n",
      "Cross-entropy loss: 1.9276327955140004e-06\n",
      "Accuracy:0.6897030472755432\n",
      "~~~~~~~~~~~~~~~~~~~~~~~~~~~~~~~~~~~~~~~~\n",
      "Epoch 100000\n",
      "Cross-entropy loss: 1.8506321932818537e-06\n",
      "Accuracy:0.6898098587989807\n",
      "~~~~~~~~~~~~~~~~~~~~~~~~~~~~~~~~~~~~~~~~\n",
      "Took: 88.11472296714783\n"
     ]
    },
    {
     "data": {
      "image/png": "[encoded data removed]",
      "text/plain": [
       "<matplotlib.figure.Figure at 0x7fcfd4230ef0>"
      ]
     },
     "metadata": {},
     "output_type": "display_data"
    }
   ],
   "source": [
    "run_session(graph)"
   ]
  },
  {
   "cell_type": "markdown",
   "metadata": {},
   "source": [
    "### With L2-regularization"
   ]
  },
  {
   "cell_type": "code",
   "execution_count": 14,
   "metadata": {},
   "outputs": [],
   "source": [
    "beta = 0.1"
   ]
  },
  {
   "cell_type": "code",
   "execution_count": 15,
   "metadata": {},
   "outputs": [],
   "source": [
    "graph = tf.Graph()\n",
    "\n",
    "with graph.as_default():\n",
    "    with tf.name_scope(\"inputs\"):\n",
    "        train_inputs = tf.placeholder(tf.float32, shape=[batch_size, image_size*image_size])\n",
    "        train_labels = tf.placeholder(tf.int32, shape=[batch_size, nclasses])\n",
    "\n",
    "        W1 = tf.Variable(tf.random_normal(shape=[image_size*image_size, image_size*image_size], stddev=0.1))\n",
    "        b1 = tf.Variable(tf.zeros(shape=[image_size*image_size]))\n",
    "\n",
    "        h1 = tf.nn.relu(\n",
    "            tf.add(tf.matmul(train_inputs, W1), b1))\n",
    "        \n",
    "        W2 = tf.Variable(tf.random_normal(shape=[image_size*image_size, nclasses], stddev=0.1))\n",
    "        b2 = tf.Variable(tf.zeros(shape=[nclasses]))\n",
    "        \n",
    "        logits = tf.add(tf.matmul(h1,W2), b2)\n",
    "\n",
    "    with tf.name_scope(\"Loss\"):\n",
    "        cross_entropy_ = tf.reduce_mean(tf.nn.softmax_cross_entropy_with_logits(logits=logits, labels=train_labels))\n",
    "        \n",
    "    with tf.name_scope(\"regularization\"):\n",
    "        regularizer = tf.nn.l2_loss(cross_entropy_)\n",
    "        cross_entropy = tf.reduce_mean(tf.add(cross_entropy_, beta*regularizer))\n",
    "        \n",
    "    with tf.name_scope(\"Optimizer\"):\n",
    "        optimizer = tf.train.GradientDescentOptimizer(learning_rate).minimize(cross_entropy)\n",
    "        \n",
    "    with tf.name_scope(\"Predictions\"):\n",
    "        test_inputs = tf.placeholder(tf.float32, shape=[None, image_size*image_size])\n",
    "        test_labels = tf.placeholder(tf.int32, shape=[None, nclasses])\n",
    "        h1_test = tf.nn.relu(\n",
    "            tf.add(tf.matmul(test_inputs, W1), b1))\n",
    "        test_logits = tf.add(tf.matmul(h1_test, W2), b2, name=\"test_logits\")\n",
    "        prediction_probs = tf.nn.softmax(test_logits)\n",
    "        predictions = tf.argmax(prediction_probs, 1)\n",
    "        \n",
    "    with tf.name_scope(\"Accuracy\"):\n",
    "        target = tf.argmax(test_labels, 1)\n",
    "        correct = tf.equal(predictions, target)\n",
    "        accuracy = tf.reduce_mean(tf.cast(correct, \"float\"))\n",
    "    init = tf.global_variables_initializer()"
   ]
  },
  {
   "cell_type": "code",
   "execution_count": 16,
   "metadata": {
    "scrolled": false
   },
   "outputs": [
    {
     "name": "stdout",
     "output_type": "stream",
     "text": [
      "Variables initialized\n",
      "Epoch 0\n",
      "Cross-entropy loss: 15.412561416625977\n",
      "Accuracy:0.35756248235702515\n",
      "~~~~~~~~~~~~~~~~~~~~~~~~~~~~~~~~~~~~~~~~\n",
      "Epoch 5000\n",
      "Cross-entropy loss: 2.0095740332180868e-05\n",
      "Accuracy:0.7240440249443054\n",
      "~~~~~~~~~~~~~~~~~~~~~~~~~~~~~~~~~~~~~~~~\n",
      "Epoch 10000\n",
      "Cross-entropy loss: 1.0180495307395177e-05\n",
      "Accuracy:0.7269279956817627\n",
      "~~~~~~~~~~~~~~~~~~~~~~~~~~~~~~~~~~~~~~~~\n",
      "Epoch 15000\n",
      "Cross-entropy loss: 6.928185994183877e-06\n",
      "Accuracy:0.7284234166145325\n",
      "~~~~~~~~~~~~~~~~~~~~~~~~~~~~~~~~~~~~~~~~\n",
      "Epoch 20000\n",
      "Cross-entropy loss: 5.291554848099622e-06\n",
      "Accuracy:0.729544997215271\n",
      "~~~~~~~~~~~~~~~~~~~~~~~~~~~~~~~~~~~~~~~~\n",
      "Epoch 25000\n",
      "Cross-entropy loss: 4.304154624605872e-06\n",
      "Accuracy:0.730613112449646\n",
      "~~~~~~~~~~~~~~~~~~~~~~~~~~~~~~~~~~~~~~~~\n",
      "Epoch 30000\n",
      "Cross-entropy loss: 3.6491664329787452e-06\n",
      "Accuracy:0.7314676642417908\n",
      "~~~~~~~~~~~~~~~~~~~~~~~~~~~~~~~~~~~~~~~~\n",
      "Epoch 35000\n",
      "Cross-entropy loss: 3.1807391817437746e-06\n",
      "Accuracy:0.731841504573822\n",
      "~~~~~~~~~~~~~~~~~~~~~~~~~~~~~~~~~~~~~~~~\n",
      "Epoch 40000\n",
      "Cross-entropy loss: 2.8260040703571577e-06\n",
      "Accuracy:0.7321085333824158\n",
      "~~~~~~~~~~~~~~~~~~~~~~~~~~~~~~~~~~~~~~~~\n",
      "Epoch 45000\n",
      "Cross-entropy loss: 2.5594082703719323e-06\n",
      "Accuracy:0.7325891852378845\n",
      "~~~~~~~~~~~~~~~~~~~~~~~~~~~~~~~~~~~~~~~~\n",
      "Epoch 50000\n",
      "Cross-entropy loss: 2.3371709530692897e-06\n",
      "Accuracy:0.732909619808197\n",
      "~~~~~~~~~~~~~~~~~~~~~~~~~~~~~~~~~~~~~~~~\n",
      "Epoch 55000\n",
      "Cross-entropy loss: 2.1601171299607815e-06\n",
      "Accuracy:0.7331766486167908\n",
      "~~~~~~~~~~~~~~~~~~~~~~~~~~~~~~~~~~~~~~~~\n",
      "Epoch 60000\n",
      "Cross-entropy loss: 2.0075221061688355e-06\n",
      "Accuracy:0.733497142791748\n",
      "~~~~~~~~~~~~~~~~~~~~~~~~~~~~~~~~~~~~~~~~\n",
      "Epoch 65000\n",
      "Cross-entropy loss: 1.8870346688117933e-06\n",
      "Accuracy:0.7335505485534668\n",
      "~~~~~~~~~~~~~~~~~~~~~~~~~~~~~~~~~~~~~~~~\n",
      "Epoch 70000\n",
      "Cross-entropy loss: 1.7805253985443414e-06\n",
      "Accuracy:0.7338709831237793\n",
      "~~~~~~~~~~~~~~~~~~~~~~~~~~~~~~~~~~~~~~~~\n",
      "Epoch 75000\n",
      "Cross-entropy loss: 1.6805809962079366e-06\n",
      "Accuracy:0.7341914176940918\n",
      "~~~~~~~~~~~~~~~~~~~~~~~~~~~~~~~~~~~~~~~~\n",
      "Epoch 80000\n",
      "Cross-entropy loss: 1.600476418843755e-06\n",
      "Accuracy:0.7342448234558105\n",
      "~~~~~~~~~~~~~~~~~~~~~~~~~~~~~~~~~~~~~~~~\n",
      "Epoch 85000\n",
      "Cross-entropy loss: 1.5242354885458553e-06\n",
      "Accuracy:0.7345118522644043\n",
      "~~~~~~~~~~~~~~~~~~~~~~~~~~~~~~~~~~~~~~~~\n",
      "Epoch 90000\n",
      "Cross-entropy loss: 1.4624389249320303e-06\n",
      "Accuracy:0.7346720695495605\n",
      "~~~~~~~~~~~~~~~~~~~~~~~~~~~~~~~~~~~~~~~~\n",
      "Epoch 95000\n",
      "Cross-entropy loss: 1.4019131141367325e-06\n",
      "Accuracy:0.734992504119873\n",
      "~~~~~~~~~~~~~~~~~~~~~~~~~~~~~~~~~~~~~~~~\n",
      "Epoch 100000\n",
      "Cross-entropy loss: 1.3508131056596539e-06\n",
      "Accuracy:0.7353129386901855\n",
      "~~~~~~~~~~~~~~~~~~~~~~~~~~~~~~~~~~~~~~~~\n",
      "Took: 86.0762026309967\n"
     ]
    },
    {
     "data": {
      "image/png": "[encoded data removed]",
      "text/plain": [
       "<matplotlib.figure.Figure at 0x7fcfd240e0f0>"
      ]
     },
     "metadata": {},
     "output_type": "display_data"
    }
   ],
   "source": [
    "run_session(graph)"
   ]
  },
  {
   "cell_type": "markdown",
   "metadata": {},
   "source": [
    "### Using dropout alone"
   ]
  },
  {
   "cell_type": "code",
   "execution_count": 17,
   "metadata": {},
   "outputs": [],
   "source": [
    "graph = tf.Graph()\n",
    "\n",
    "with graph.as_default():\n",
    "    with tf.name_scope(\"inputs\"):\n",
    "        train_inputs = tf.placeholder(tf.float32, shape=[batch_size, image_size*image_size])\n",
    "        train_labels = tf.placeholder(tf.int32, shape=[batch_size, nclasses])\n",
    "\n",
    "        W1 = tf.Variable(tf.random_normal(shape=[image_size*image_size, image_size*image_size], stddev=0.1))\n",
    "        b1 = tf.Variable(tf.zeros(shape=[image_size*image_size]))\n",
    "\n",
    "        h1 = tf.nn.relu(\n",
    "            tf.add(tf.matmul(train_inputs, W1), b1))\n",
    "        with tf.name_scope(\"dropout\"):\n",
    "            h1_dropout = tf.nn.dropout(h1, 0.5)\n",
    "        \n",
    "        W2 = tf.Variable(tf.random_normal(shape=[image_size*image_size, nclasses], stddev=0.1))\n",
    "        b2 = tf.Variable(tf.zeros(shape=[nclasses]))\n",
    "        \n",
    "        logits = tf.add(tf.matmul(h1_dropout,W2), b2)\n",
    "\n",
    "    with tf.name_scope(\"Loss\"):\n",
    "        cross_entropy = tf.reduce_mean(tf.nn.softmax_cross_entropy_with_logits(logits=logits, labels=train_labels))\n",
    "                \n",
    "    with tf.name_scope(\"Optimizer\"):\n",
    "        optimizer = tf.train.GradientDescentOptimizer(learning_rate).minimize(cross_entropy)\n",
    "        \n",
    "    with tf.name_scope(\"Predictions\"):\n",
    "        test_inputs = tf.placeholder(tf.float32, shape=[None, image_size*image_size])\n",
    "        test_labels = tf.placeholder(tf.int32, shape=[None, nclasses])\n",
    "        h1_test = tf.nn.relu(\n",
    "            tf.add(tf.matmul(test_inputs, W1), b1))\n",
    "        test_logits = tf.add(tf.matmul(h1_test, W2), b2, name=\"test_logits\")\n",
    "        prediction_probs = tf.nn.softmax(test_logits)\n",
    "        predictions = tf.argmax(prediction_probs, 1)\n",
    "        \n",
    "    with tf.name_scope(\"Accuracy\"):\n",
    "        target = tf.argmax(test_labels, 1)\n",
    "        correct = tf.equal(predictions, target)\n",
    "        accuracy = tf.reduce_mean(tf.cast(correct, \"float\"))\n",
    "    init = tf.global_variables_initializer()"
   ]
  },
  {
   "cell_type": "code",
   "execution_count": 18,
   "metadata": {
    "scrolled": false
   },
   "outputs": [
    {
     "name": "stdout",
     "output_type": "stream",
     "text": [
      "Variables initialized\n",
      "Epoch 0\n",
      "Cross-entropy loss: 19.36614418029785\n",
      "Accuracy:0.3210318386554718\n",
      "~~~~~~~~~~~~~~~~~~~~~~~~~~~~~~~~~~~~~~~~\n",
      "Epoch 5000\n",
      "Cross-entropy loss: 0.00017144027479748948\n",
      "Accuracy:0.7286904454231262\n",
      "~~~~~~~~~~~~~~~~~~~~~~~~~~~~~~~~~~~~~~~~\n",
      "Epoch 10000\n",
      "Cross-entropy loss: 7.02920717435731e-05\n",
      "Accuracy:0.7254859805107117\n",
      "~~~~~~~~~~~~~~~~~~~~~~~~~~~~~~~~~~~~~~~~\n",
      "Epoch 15000\n",
      "Cross-entropy loss: 5.33576400865301e-05\n",
      "Accuracy:0.7253257632255554\n",
      "~~~~~~~~~~~~~~~~~~~~~~~~~~~~~~~~~~~~~~~~\n",
      "Epoch 20000\n",
      "Cross-entropy loss: 5.474427209855026e-07\n",
      "Accuracy:0.7282631993293762\n",
      "~~~~~~~~~~~~~~~~~~~~~~~~~~~~~~~~~~~~~~~~\n",
      "Epoch 25000\n",
      "Cross-entropy loss: 9.295289822182973e-06\n",
      "Accuracy:0.7298120260238647\n",
      "~~~~~~~~~~~~~~~~~~~~~~~~~~~~~~~~~~~~~~~~\n",
      "Epoch 30000\n",
      "Cross-entropy loss: 4.7958578647677716e-06\n",
      "Accuracy:0.7291176915168762\n",
      "~~~~~~~~~~~~~~~~~~~~~~~~~~~~~~~~~~~~~~~~\n",
      "Epoch 35000\n",
      "Cross-entropy loss: 5.237493438328355e-06\n",
      "Accuracy:0.7307733297348022\n",
      "~~~~~~~~~~~~~~~~~~~~~~~~~~~~~~~~~~~~~~~~\n",
      "Epoch 40000\n",
      "Cross-entropy loss: 2.847793329899373e-06\n",
      "Accuracy:0.7363811135292053\n",
      "~~~~~~~~~~~~~~~~~~~~~~~~~~~~~~~~~~~~~~~~\n",
      "Epoch 45000\n",
      "Cross-entropy loss: 1.71982121035974e-07\n",
      "Accuracy:0.7377697229385376\n",
      "~~~~~~~~~~~~~~~~~~~~~~~~~~~~~~~~~~~~~~~~\n",
      "Epoch 50000\n",
      "Cross-entropy loss: 1.5101625763869197e-06\n",
      "Accuracy:0.7371821999549866\n",
      "~~~~~~~~~~~~~~~~~~~~~~~~~~~~~~~~~~~~~~~~\n",
      "Epoch 55000\n",
      "Cross-entropy loss: 6.978106580028953e-07\n",
      "Accuracy:0.7358470559120178\n",
      "~~~~~~~~~~~~~~~~~~~~~~~~~~~~~~~~~~~~~~~~\n",
      "Epoch 60000\n",
      "Cross-entropy loss: 2.608170838938051e-07\n",
      "Accuracy:0.7316812872886658\n",
      "~~~~~~~~~~~~~~~~~~~~~~~~~~~~~~~~~~~~~~~~\n",
      "Epoch 65000\n",
      "Cross-entropy loss: 2.1709762424940495e-05\n",
      "Accuracy:0.7336039543151855\n",
      "~~~~~~~~~~~~~~~~~~~~~~~~~~~~~~~~~~~~~~~~\n",
      "Epoch 70000\n",
      "Cross-entropy loss: 1.1006270686420016e-05\n",
      "Accuracy:0.7355800271034241\n",
      "~~~~~~~~~~~~~~~~~~~~~~~~~~~~~~~~~~~~~~~~\n",
      "Epoch 75000\n",
      "Cross-entropy loss: 5.839037042079553e-06\n",
      "Accuracy:0.7302926778793335\n",
      "~~~~~~~~~~~~~~~~~~~~~~~~~~~~~~~~~~~~~~~~\n",
      "Epoch 80000\n",
      "Cross-entropy loss: 8.461092131639702e-07\n",
      "Accuracy:0.7312005758285522\n",
      "~~~~~~~~~~~~~~~~~~~~~~~~~~~~~~~~~~~~~~~~\n",
      "Epoch 85000\n",
      "Cross-entropy loss: 1.339140621150481e-07\n",
      "Accuracy:0.7317346930503845\n",
      "~~~~~~~~~~~~~~~~~~~~~~~~~~~~~~~~~~~~~~~~\n",
      "Epoch 90000\n",
      "Cross-entropy loss: 2.575489491047911e-07\n",
      "Accuracy:0.730185866355896\n",
      "~~~~~~~~~~~~~~~~~~~~~~~~~~~~~~~~~~~~~~~~\n",
      "Epoch 95000\n",
      "Cross-entropy loss: 1.6426910926067295e-05\n",
      "Accuracy:0.7330164313316345\n",
      "~~~~~~~~~~~~~~~~~~~~~~~~~~~~~~~~~~~~~~~~\n",
      "Epoch 100000\n",
      "Cross-entropy loss: 6.459045642737138e-08\n",
      "Accuracy:0.732909619808197\n",
      "~~~~~~~~~~~~~~~~~~~~~~~~~~~~~~~~~~~~~~~~\n",
      "Took: 83.79409885406494\n"
     ]
    },
    {
     "data": {
      "image/png": "[encoded data removed]",
      "text/plain": [
       "<matplotlib.figure.Figure at 0x7fcf9805d978>"
      ]
     },
     "metadata": {},
     "output_type": "display_data"
    }
   ],
   "source": [
    "run_session(graph)"
   ]
  },
  {
   "cell_type": "markdown",
   "metadata": {},
   "source": [
    "### Using Dropout + L2-regularization"
   ]
  },
  {
   "cell_type": "code",
   "execution_count": 25,
   "metadata": {},
   "outputs": [],
   "source": [
    "graph = tf.Graph()\n",
    "learning_rate = 0.01\n",
    "with graph.as_default():\n",
    "    with tf.name_scope(\"inputs\"):\n",
    "        train_inputs = tf.placeholder(tf.float32, shape=[batch_size, image_size*image_size])\n",
    "        train_labels = tf.placeholder(tf.int32, shape=[batch_size, nclasses])\n",
    "\n",
    "        W1 = tf.Variable(tf.random_normal(shape=[image_size*image_size, image_size*image_size], stddev=0.1))\n",
    "        b1 = tf.Variable(tf.zeros(shape=[image_size*image_size]))\n",
    "\n",
    "        h1 = tf.nn.relu(\n",
    "            tf.add(tf.matmul(train_inputs, W1), b1))\n",
    "        with tf.name_scope(\"dropout\"):\n",
    "            h1_dropout = tf.nn.dropout(h1, 0.5)\n",
    "        \n",
    "        W2 = tf.Variable(tf.random_normal(shape=[image_size*image_size, nclasses], stddev=0.1))\n",
    "        b2 = tf.Variable(tf.zeros(shape=[nclasses]))\n",
    "        \n",
    "        logits = tf.add(tf.matmul(h1_dropout,W2), b2)\n",
    "\n",
    "    with tf.name_scope(\"Loss\"):\n",
    "        cross_entropy_ = tf.reduce_mean(tf.nn.softmax_cross_entropy_with_logits(logits=logits, labels=train_labels))\n",
    "        \n",
    "    with tf.name_scope(\"regularization\"):\n",
    "        regularizer = tf.nn.l2_loss(cross_entropy_)\n",
    "        cross_entropy = tf.reduce_mean(tf.add(cross_entropy_, beta*regularizer))\n",
    "        \n",
    "    with tf.name_scope(\"Optimizer\"):\n",
    "        optimizer = tf.train.GradientDescentOptimizer(learning_rate).minimize(cross_entropy)\n",
    "        \n",
    "    with tf.name_scope(\"Predictions\"):\n",
    "        test_inputs = tf.placeholder(tf.float32, shape=[None, image_size*image_size])\n",
    "        test_labels = tf.placeholder(tf.int32, shape=[None, nclasses])\n",
    "        h1_test = tf.nn.relu(\n",
    "            tf.add(tf.matmul(test_inputs, W1), b1))\n",
    "        test_logits = tf.add(tf.matmul(h1_test, W2), b2, name=\"test_logits\")\n",
    "        prediction_probs = tf.nn.softmax(test_logits)\n",
    "        predictions = tf.argmax(prediction_probs, 1)\n",
    "        \n",
    "    with tf.name_scope(\"Accuracy\"):\n",
    "        target = tf.argmax(test_labels, 1)\n",
    "        correct = tf.equal(predictions, target)\n",
    "        accuracy = tf.reduce_mean(tf.cast(correct, \"float\"))\n",
    "    init = tf.global_variables_initializer()"
   ]
  },
  {
   "cell_type": "code",
   "execution_count": 26,
   "metadata": {
    "scrolled": false
   },
   "outputs": [
    {
     "name": "stdout",
     "output_type": "stream",
     "text": [
      "Variables initialized\n",
      "Epoch 0\n",
      "Cross-entropy loss: 50.55647277832031\n",
      "Accuracy:0.3071993291378021\n",
      "~~~~~~~~~~~~~~~~~~~~~~~~~~~~~~~~~~~~~~~~\n",
      "Epoch 5000\n",
      "Cross-entropy loss: 0.00163396265156675\n",
      "Accuracy:0.7389980554580688\n",
      "~~~~~~~~~~~~~~~~~~~~~~~~~~~~~~~~~~~~~~~~\n",
      "Epoch 10000\n",
      "Cross-entropy loss: 0.0008667418227792398\n",
      "Accuracy:0.7379833459854126\n",
      "~~~~~~~~~~~~~~~~~~~~~~~~~~~~~~~~~~~~~~~~\n",
      "Epoch 15000\n",
      "Cross-entropy loss: 0.00036122576884295497\n",
      "Accuracy:0.7353664040565491\n",
      "~~~~~~~~~~~~~~~~~~~~~~~~~~~~~~~~~~~~~~~~\n",
      "Epoch 20000\n",
      "Cross-entropy loss: 0.00035163714415104084\n",
      "Accuracy:0.7382503747940063\n",
      "~~~~~~~~~~~~~~~~~~~~~~~~~~~~~~~~~~~~~~~~\n",
      "Epoch 25000\n",
      "Cross-entropy loss: 0.00013292220652093013\n",
      "Accuracy:0.7353129386901855\n",
      "~~~~~~~~~~~~~~~~~~~~~~~~~~~~~~~~~~~~~~~~\n",
      "Epoch 30000\n",
      "Cross-entropy loss: 0.00026454451918940427\n",
      "Accuracy:0.7371287941932678\n",
      "~~~~~~~~~~~~~~~~~~~~~~~~~~~~~~~~~~~~~~~~\n",
      "Epoch 35000\n",
      "Cross-entropy loss: 7.727147201662298e-05\n",
      "Accuracy:0.7389980554580688\n",
      "~~~~~~~~~~~~~~~~~~~~~~~~~~~~~~~~~~~~~~~~\n",
      "Epoch 40000\n",
      "Cross-entropy loss: 8.600585020247297e-05\n",
      "Accuracy:0.7380367517471313\n",
      "~~~~~~~~~~~~~~~~~~~~~~~~~~~~~~~~~~~~~~~~\n",
      "Epoch 45000\n",
      "Cross-entropy loss: 0.00020681827568403644\n",
      "Accuracy:0.7399594187736511\n",
      "~~~~~~~~~~~~~~~~~~~~~~~~~~~~~~~~~~~~~~~~\n",
      "Epoch 50000\n",
      "Cross-entropy loss: 5.8237002721274186e-05\n",
      "Accuracy:0.7406536936759949\n",
      "~~~~~~~~~~~~~~~~~~~~~~~~~~~~~~~~~~~~~~~~\n",
      "Epoch 55000\n",
      "Cross-entropy loss: 0.00010596239316905432\n",
      "Accuracy:0.7412412166595459\n",
      "~~~~~~~~~~~~~~~~~~~~~~~~~~~~~~~~~~~~~~~~\n",
      "Epoch 60000\n",
      "Cross-entropy loss: 0.0001381080779044881\n",
      "Accuracy:0.7407070994377136\n",
      "~~~~~~~~~~~~~~~~~~~~~~~~~~~~~~~~~~~~~~~~\n",
      "Epoch 65000\n",
      "Cross-entropy loss: 0.00010969864747452562\n",
      "Accuracy:0.7376095056533813\n",
      "~~~~~~~~~~~~~~~~~~~~~~~~~~~~~~~~~~~~~~~~\n",
      "Epoch 70000\n",
      "Cross-entropy loss: 7.9905808809132e-05\n",
      "Accuracy:0.7401730418205261\n",
      "~~~~~~~~~~~~~~~~~~~~~~~~~~~~~~~~~~~~~~~~\n",
      "Epoch 75000\n",
      "Cross-entropy loss: 4.573546896505576e-05\n",
      "Accuracy:0.7407070994377136\n",
      "~~~~~~~~~~~~~~~~~~~~~~~~~~~~~~~~~~~~~~~~\n",
      "Epoch 80000\n",
      "Cross-entropy loss: 2.7751371045084295e-05\n",
      "Accuracy:0.7399594187736511\n",
      "~~~~~~~~~~~~~~~~~~~~~~~~~~~~~~~~~~~~~~~~\n",
      "Epoch 85000\n",
      "Cross-entropy loss: 1.4736354789840255e-05\n",
      "Accuracy:0.7428967952728271\n",
      "~~~~~~~~~~~~~~~~~~~~~~~~~~~~~~~~~~~~~~~~\n",
      "Epoch 90000\n",
      "Cross-entropy loss: 0.0001536513924733245\n",
      "Accuracy:0.7395855784416199\n",
      "~~~~~~~~~~~~~~~~~~~~~~~~~~~~~~~~~~~~~~~~\n",
      "Epoch 95000\n",
      "Cross-entropy loss: 6.316425216085886e-06\n",
      "Accuracy:0.7367549538612366\n",
      "~~~~~~~~~~~~~~~~~~~~~~~~~~~~~~~~~~~~~~~~\n",
      "Epoch 100000\n",
      "Cross-entropy loss: 2.351715664083476e-05\n",
      "Accuracy:0.7434309124946594\n",
      "~~~~~~~~~~~~~~~~~~~~~~~~~~~~~~~~~~~~~~~~\n",
      "Took: 82.68234777450562\n"
     ]
    },
    {
     "data": {
      "image/png": "[encoded data removed]",
      "text/plain": [
       "<matplotlib.figure.Figure at 0x7fcf43f742e8>"
      ]
     },
     "metadata": {},
     "output_type": "display_data"
    }
   ],
   "source": [
    "run_session(graph)"
   ]
  }
 ],
 "metadata": {
  "kernelspec": {
   "display_name": "Python 3",
   "language": "python",
   "name": "python3"
  },
  "language_info": {
   "codemirror_mode": {
    "name": "ipython",
    "version": 3
   },
   "file_extension": ".py",
   "mimetype": "text/x-python",
   "name": "python",
   "nbconvert_exporter": "python",
   "pygments_lexer": "ipython3",
   "version": "3.5.2"
  }
 },
 "nbformat": 4,
 "nbformat_minor": 2
}
