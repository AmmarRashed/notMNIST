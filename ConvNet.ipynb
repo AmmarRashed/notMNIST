{
 "cells": [
  {
   "cell_type": "code",
   "execution_count": 1,
   "metadata": {},
   "outputs": [],
   "source": [
    "from __future__ import print_function, division, absolute_import\n",
    "from six.moves import cPickle as pickle"
   ]
  },
  {
   "cell_type": "code",
   "execution_count": 2,
   "metadata": {},
   "outputs": [
    {
     "name": "stderr",
     "output_type": "stream",
     "text": [
      "/usr/local/lib/python3.5/dist-packages/h5py/__init__.py:36: FutureWarning: Conversion of the second argument of issubdtype from `float` to `np.floating` is deprecated. In future, it will be treated as `np.float64 == np.dtype(float).type`.\n",
      "  from ._conv import register_converters as _register_converters\n"
     ]
    }
   ],
   "source": [
    "import os, time\n",
    "\n",
    "import numpy as np\n",
    "\n",
    "import tensorflow as tf"
   ]
  },
  {
   "cell_type": "code",
   "execution_count": 3,
   "metadata": {},
   "outputs": [],
   "source": [
    "from matplotlib import pyplot as plt\n",
    "%matplotlib inline"
   ]
  },
  {
   "cell_type": "markdown",
   "metadata": {},
   "source": [
    "### Loading the data"
   ]
  },
  {
   "cell_type": "code",
   "execution_count": 4,
   "metadata": {},
   "outputs": [],
   "source": [
    "image_size = 28\n",
    "pixel_depth = 255\n",
    "data_root = 'data'"
   ]
  },
  {
   "cell_type": "code",
   "execution_count": 5,
   "metadata": {},
   "outputs": [
    {
     "name": "stdout",
     "output_type": "stream",
     "text": [
      "(529114, 784) (18724, 784)\n"
     ]
    }
   ],
   "source": [
    "pickle_file  = os.path.join(data_root, 'notMNIST.pickle')\n",
    "keys = [\"{0}_{1}\".format(t,x) for t in [\"train\",\"test\"] for x in \"Xy\"]+[\"labels_dict\"]\n",
    "with open(pickle_file, 'rb') as f:\n",
    "    pi = pickle.load(f)\n",
    "    for k in keys:\n",
    "        globals()[k] = pi[k]\n",
    "print(train_X.shape, test_X.shape)"
   ]
  },
  {
   "cell_type": "code",
   "execution_count": 6,
   "metadata": {},
   "outputs": [
    {
     "data": {
      "text/plain": [
       "{'A': 0,\n",
       " 'B': 1,\n",
       " 'C': 2,\n",
       " 'D': 3,\n",
       " 'E': 4,\n",
       " 'F': 5,\n",
       " 'G': 6,\n",
       " 'H': 7,\n",
       " 'I': 8,\n",
       " 'J': 9}"
      ]
     },
     "execution_count": 6,
     "metadata": {},
     "output_type": "execute_result"
    }
   ],
   "source": [
    "nclasses = len(labels_dict)\n",
    "labels_dict"
   ]
  },
  {
   "cell_type": "code",
   "execution_count": 7,
   "metadata": {},
   "outputs": [],
   "source": [
    "def to_onehot(labels, nclasses):\n",
    "    onehot = np.zeros(shape=(len(labels), nclasses))\n",
    "    for i, label in enumerate(labels):\n",
    "        onehot[i, int(label)] = 1\n",
    "    return onehot\n",
    "\n",
    "test_y = to_onehot(test_y, nclasses)"
   ]
  },
  {
   "cell_type": "code",
   "execution_count": 8,
   "metadata": {},
   "outputs": [],
   "source": [
    "def generate_batch(batch_size=10):\n",
    "    global train_X, train_y, labels_dict\n",
    "    j = 0\n",
    "    while 1:\n",
    "        i = j\n",
    "        if i+batch_size < len(train_X):\n",
    "            j = i + batch_size\n",
    "            raw_labels = train_y[i:i+batch_size]\n",
    "            yield train_X[i:i+batch_size], to_onehot(raw_labels.flatten(), len(labels_dict))\n",
    "        else:\n",
    "            j = 0\n",
    "            raw_labels = np.concatenate((train_y[i:], train_y[0:batch_size-(len(train_y)-i)]))\n",
    "            yield np.concatenate((train_X[i:], train_X[0:batch_size-(len(train_X)-i)])),\\\n",
    "                    to_onehot(raw_labels.flatten(), len(labels_dict))\n",
    "        "
   ]
  },
  {
   "cell_type": "code",
   "execution_count": 9,
   "metadata": {},
   "outputs": [],
   "source": [
    "img_size = 28\n",
    "in_depth = 1  # gray scale\n",
    "out_depth = 16\n",
    "kernel_size = 5\n",
    "hsize = 64\n",
    "batch_size = 1000"
   ]
  },
  {
   "cell_type": "code",
   "execution_count": 10,
   "metadata": {},
   "outputs": [
    {
     "data": {
      "text/plain": [
       "(529114, 28, 28, 1)"
      ]
     },
     "execution_count": 10,
     "metadata": {},
     "output_type": "execute_result"
    }
   ],
   "source": [
    "train_X = train_X.reshape((train_X.shape[0], img_size, img_size, in_depth))\n",
    "train_X.shape"
   ]
  },
  {
   "cell_type": "code",
   "execution_count": 11,
   "metadata": {},
   "outputs": [
    {
     "data": {
      "text/plain": [
       "(18724, 28, 28, 1)"
      ]
     },
     "execution_count": 11,
     "metadata": {},
     "output_type": "execute_result"
    }
   ],
   "source": [
    "test_X = test_X.reshape((test_X.shape[0], img_size, img_size, in_depth))\n",
    "test_X.shape"
   ]
  },
  {
   "cell_type": "markdown",
   "metadata": {},
   "source": [
    "### LeNet"
   ]
  },
  {
   "cell_type": "code",
   "execution_count": 12,
   "metadata": {},
   "outputs": [
    {
     "name": "stdout",
     "output_type": "stream",
     "text": [
      "WARNING:tensorflow:From <ipython-input-12-bc451205a34a>:79: softmax_cross_entropy_with_logits (from tensorflow.python.ops.nn_ops) is deprecated and will be removed in a future version.\n",
      "Instructions for updating:\n",
      "\n",
      "Future major versions of TensorFlow will allow gradients to flow\n",
      "into the labels input on backprop by default.\n",
      "\n",
      "See tf.nn.softmax_cross_entropy_with_logits_v2.\n",
      "\n"
     ]
    }
   ],
   "source": [
    "graph = tf.Graph()\n",
    "with graph.as_default():\n",
    "    with tf.name_scope(\"inputs\"):\n",
    "        train_inputs = tf.placeholder(tf.float32, shape=[batch_size, image_size,image_size, in_depth])\n",
    "        train_labels = tf.placeholder(tf.int32, shape=[batch_size, nclasses])\n",
    "        beta = tf.placeholder(\"float\")\n",
    "        alpha = tf.placeholder(\"float\")\n",
    "        \n",
    "    with tf.name_scope(\"Weights\"):\n",
    "        l1_w = tf.Variable(\n",
    "            tf.truncated_normal([kernel_size, kernel_size, in_depth, out_depth],stddev=0.1)\n",
    "        )\n",
    "        l1_b = tf.Variable(\n",
    "            tf.zeros([out_depth])\n",
    "        )\n",
    "        \n",
    "        \n",
    "        l2_w = tf.Variable(\n",
    "            tf.truncated_normal([kernel_size, kernel_size, out_depth, out_depth],stddev=0.1)\n",
    "        )\n",
    "        l2_b = tf.Variable(\n",
    "            tf.zeros([out_depth])\n",
    "        )\n",
    "        \n",
    "        l3_w = tf.Variable(\n",
    "            tf.truncated_normal([img_size//4 * img_size//4 *out_depth, hsize],stddev=0.1)\n",
    "        )\n",
    "        l3_b = tf.Variable(\n",
    "            tf.zeros([hsize])\n",
    "        )\n",
    "        \n",
    "        l4_w = tf.Variable(\n",
    "            tf.truncated_normal([hsize, hsize],stddev=0.1)\n",
    "        )\n",
    "        l4_b = tf.Variable(\n",
    "            tf.zeros([hsize])\n",
    "        )\n",
    "        \n",
    "        l5_w = tf.Variable(\n",
    "            tf.truncated_normal([hsize, nclasses],stddev=0.1)\n",
    "        )\n",
    "        l5_b = tf.Variable(\n",
    "            tf.zeros([nclasses])\n",
    "        )\n",
    "        \n",
    "        \n",
    "    with tf.name_scope(\"convulotion\"):\n",
    "        def model(data, keep=0.5):\n",
    "            ## conv1\n",
    "            conv = tf.nn.conv2d(data, l1_w, [1,2,2,1], padding='SAME')\n",
    "            \n",
    "            ## maxpooling 1\n",
    "            pool = tf.nn.pool(conv, [kernel_size, kernel_size], pooling_type=\"MAX\", padding='SAME')\n",
    "            hidden = tf.nn.relu(pool+l1_b)\n",
    "            \n",
    "            ## conv2\n",
    "            conv = tf.nn.conv2d(hidden, l2_w, [1,2,2,1], padding='SAME')\n",
    "            \n",
    "            ## maxpooling 2\n",
    "            pool = tf.nn.pool(conv, [kernel_size, kernel_size], pooling_type=\"MAX\", padding='SAME')\n",
    "            hidden = tf.nn.relu(pool+l2_b)\n",
    "            \n",
    "            \n",
    "            shapes = hidden.get_shape().as_list()\n",
    "            reshape = tf.reshape(hidden, [tf.shape(hidden)[0], shapes[1]*shapes[2]*shapes[3]])\n",
    "            \n",
    "            ## fully connected 1\n",
    "            hidden = tf.nn.dropout(tf.nn.relu(tf.matmul(reshape, l3_w)+l3_b), keep)\n",
    "            \n",
    "            ## fully connected 2\n",
    "            hidden = tf.nn.dropout(tf.nn.relu(tf.add(tf.matmul(hidden, l4_w), l4_b)), keep)\n",
    "            \n",
    "            logits = tf.add(tf.matmul(hidden, l5_w), l5_b)\n",
    "            return logits\n",
    "        \n",
    "    logits = model(train_inputs) \n",
    "    \n",
    "    with tf.name_scope(\"Loss\"):\n",
    "        cross_entropy_ = tf.reduce_mean(tf.nn.softmax_cross_entropy_with_logits(logits=logits, labels=train_labels))\n",
    "    \n",
    "    with tf.name_scope(\"regularization\"):\n",
    "        regularizer = tf.nn.l2_loss(cross_entropy_)\n",
    "        cross_entropy = tf.reduce_mean(tf.add(cross_entropy_, tf.multiply(beta, regularizer)))\n",
    "    \n",
    "    with tf.name_scope(\"Optimizer\"):\n",
    "        \n",
    "        optimizer = tf.train.GradientDescentOptimizer(alpha).minimize(cross_entropy)\n",
    "        \n",
    "    with tf.name_scope(\"Predictions\"):\n",
    "        test_inputs = tf.placeholder(tf.float32, shape=[None, image_size,image_size, in_depth])\n",
    "        test_labels = tf.placeholder(tf.int32, shape=[None, nclasses])\n",
    "        test_logits = model(test_inputs, keep=1.0)\n",
    "        prediction_probs = tf.nn.softmax(test_logits)\n",
    "        predictions = tf.argmax(prediction_probs, 1)\n",
    "        \n",
    "    with tf.name_scope(\"Accuracy\"):\n",
    "        target = tf.argmax(test_labels, 1)\n",
    "        correct = tf.equal(predictions, target)\n",
    "        accuracy = tf.reduce_mean(tf.cast(correct, \"float\"))\n",
    "    init = tf.global_variables_initializer()\n",
    "    "
   ]
  },
  {
   "cell_type": "code",
   "execution_count": 13,
   "metadata": {},
   "outputs": [],
   "source": [
    "def run_session(graph, epochs, learning_rate, beta_input, batch_size):\n",
    "    start = time.time()\n",
    "    accuracies = dict()\n",
    "    losses = dict()\n",
    "    batches = generate_batch(batch_size=batch_size)\n",
    "\n",
    "    with tf.Session(graph=graph) as sess:\n",
    "        with tf.device(\"/gpu\"):\n",
    "            init.run()\n",
    "            print(\"Variables initialized\")\n",
    "            average_loss = 0\n",
    "            for e in range(epochs+1):\n",
    "                batch_X, batch_y = batches.__next__()\n",
    "                feed_dict = {train_inputs:batch_X, train_labels:batch_y, beta:beta_input,alpha:learning_rate}\n",
    "                _, loss = sess.run([optimizer, cross_entropy], feed_dict=feed_dict)\n",
    "                average_loss += np.mean(loss)\n",
    "#                 if e%10:\n",
    "#                     learning_rate *=0.9\n",
    "#                     beta_input *= 1.1\n",
    "                if e%100 == 0:\n",
    "                    print(\"Epoch {0}\\nCross-entropy loss: {1}\".format(e,average_loss/100 if e>0 else average_loss))\n",
    "                losses[e] = average_loss\n",
    "                average_loss = 0\n",
    "                accuracy_ = sess.run([accuracy], feed_dict={test_inputs:test_X, test_labels:test_y})\n",
    "                accuracy_ = np.mean(accuracy_)\n",
    "                accuracies[e] = accuracy_\n",
    "                if e%100 == 0:\n",
    "                    print(\"Accuracy:{0}\".format(accuracy_))\n",
    "                    print(\"~\"*40)\n",
    "    print(\"Took: {}\".format(time.time()-start))\n",
    "\n",
    "    fig, ax1 = plt.subplots(figsize=(12,7))\n",
    "    xticks = sorted(accuracies.keys())\n",
    "    data1 = [accuracies[i] for i in xticks]\n",
    "    data2 = [losses[i] for i in xticks]\n",
    "\n",
    "    color = 'tab:blue'\n",
    "    ax1.set_xlabel('Epochs')\n",
    "    ax1.set_ylabel('Accuracy', color=color)\n",
    "    ax1.plot(xticks, data1, color=color)\n",
    "    ax1.tick_params(axis='y', labelcolor=color)\n",
    "\n",
    "    ax2 = ax1.twinx()  # instantiate a second axes that shares the same x-axis\n",
    "\n",
    "    color = 'tab:red'\n",
    "    ax2.set_ylabel('Cross-entropy loss', color=color)\n",
    "    ax2.plot(xticks, data2, color=color)\n",
    "    ax2.tick_params(axis='y', labelcolor=color)\n",
    "\n",
    "    fig.tight_layout()  # otherwise the right y-label is slightly clipped"
   ]
  },
  {
   "cell_type": "code",
   "execution_count": 14,
   "metadata": {
    "scrolled": true
   },
   "outputs": [
    {
     "name": "stdout",
     "output_type": "stream",
     "text": [
      "Variables initialized\n",
      "Epoch 0\n",
      "Cross-entropy loss: 3.291558265686035\n",
      "Accuracy:0.1105533018708229\n",
      "~~~~~~~~~~~~~~~~~~~~~~~~~~~~~~~~~~~~~~~~\n",
      "Epoch 100\n",
      "Cross-entropy loss: 0.02261941909790039\n",
      "Accuracy:0.35863062739372253\n",
      "~~~~~~~~~~~~~~~~~~~~~~~~~~~~~~~~~~~~~~~~\n",
      "Epoch 200\n",
      "Cross-entropy loss: 0.021782653331756593\n",
      "Accuracy:0.4421063959598541\n",
      "~~~~~~~~~~~~~~~~~~~~~~~~~~~~~~~~~~~~~~~~\n",
      "Epoch 300\n",
      "Cross-entropy loss: 0.019795174598693847\n",
      "Accuracy:0.47762230038642883\n",
      "~~~~~~~~~~~~~~~~~~~~~~~~~~~~~~~~~~~~~~~~\n",
      "Epoch 400\n",
      "Cross-entropy loss: 0.018603677749633788\n",
      "Accuracy:0.5619525909423828\n",
      "~~~~~~~~~~~~~~~~~~~~~~~~~~~~~~~~~~~~~~~~\n",
      "Epoch 500\n",
      "Cross-entropy loss: 0.017135478258132934\n",
      "Accuracy:0.650128185749054\n",
      "~~~~~~~~~~~~~~~~~~~~~~~~~~~~~~~~~~~~~~~~\n",
      "Epoch 600\n",
      "Cross-entropy loss: 0.015578091144561768\n",
      "Accuracy:0.7113864421844482\n",
      "~~~~~~~~~~~~~~~~~~~~~~~~~~~~~~~~~~~~~~~~\n",
      "Epoch 700\n",
      "Cross-entropy loss: 0.015008234977722168\n",
      "Accuracy:0.7548600435256958\n",
      "~~~~~~~~~~~~~~~~~~~~~~~~~~~~~~~~~~~~~~~~\n",
      "Epoch 800\n",
      "Cross-entropy loss: 0.014037597179412841\n",
      "Accuracy:0.7800683379173279\n",
      "~~~~~~~~~~~~~~~~~~~~~~~~~~~~~~~~~~~~~~~~\n",
      "Epoch 900\n",
      "Cross-entropy loss: 0.012819732427597047\n",
      "Accuracy:0.8129673004150391\n",
      "~~~~~~~~~~~~~~~~~~~~~~~~~~~~~~~~~~~~~~~~\n",
      "Epoch 1000\n",
      "Cross-entropy loss: 0.011803245544433594\n",
      "Accuracy:0.8321939706802368\n",
      "~~~~~~~~~~~~~~~~~~~~~~~~~~~~~~~~~~~~~~~~\n",
      "Epoch 1100\n",
      "Cross-entropy loss: 0.011408268213272095\n",
      "Accuracy:0.8419675230979919\n",
      "~~~~~~~~~~~~~~~~~~~~~~~~~~~~~~~~~~~~~~~~\n",
      "Epoch 1200\n",
      "Cross-entropy loss: 0.011386798620223999\n",
      "Accuracy:0.8535569310188293\n",
      "~~~~~~~~~~~~~~~~~~~~~~~~~~~~~~~~~~~~~~~~\n",
      "Epoch 1300\n",
      "Cross-entropy loss: 0.010973860025405884\n",
      "Accuracy:0.8605533242225647\n",
      "~~~~~~~~~~~~~~~~~~~~~~~~~~~~~~~~~~~~~~~~\n",
      "Epoch 1400\n",
      "Cross-entropy loss: 0.011287271976470947\n",
      "Accuracy:0.866748571395874\n",
      "~~~~~~~~~~~~~~~~~~~~~~~~~~~~~~~~~~~~~~~~\n",
      "Epoch 1500\n",
      "Cross-entropy loss: 0.009921389818191528\n",
      "Accuracy:0.8694189190864563\n",
      "~~~~~~~~~~~~~~~~~~~~~~~~~~~~~~~~~~~~~~~~\n",
      "Epoch 1600\n",
      "Cross-entropy loss: 0.009932958483695985\n",
      "Accuracy:0.8751335144042969\n",
      "~~~~~~~~~~~~~~~~~~~~~~~~~~~~~~~~~~~~~~~~\n",
      "Epoch 1700\n",
      "Cross-entropy loss: 0.009877504110336303\n",
      "Accuracy:0.8771629929542542\n",
      "~~~~~~~~~~~~~~~~~~~~~~~~~~~~~~~~~~~~~~~~\n",
      "Epoch 1800\n",
      "Cross-entropy loss: 0.009131194949150085\n",
      "Accuracy:0.8802606463432312\n",
      "~~~~~~~~~~~~~~~~~~~~~~~~~~~~~~~~~~~~~~~~\n",
      "Epoch 1900\n",
      "Cross-entropy loss: 0.00919984519481659\n",
      "Accuracy:0.883678674697876\n",
      "~~~~~~~~~~~~~~~~~~~~~~~~~~~~~~~~~~~~~~~~\n",
      "Epoch 2000\n",
      "Cross-entropy loss: 0.008426487445831299\n",
      "Accuracy:0.8866161108016968\n",
      "~~~~~~~~~~~~~~~~~~~~~~~~~~~~~~~~~~~~~~~~\n",
      "Epoch 2100\n",
      "Cross-entropy loss: 0.008508026003837585\n",
      "Accuracy:0.888004720211029\n",
      "~~~~~~~~~~~~~~~~~~~~~~~~~~~~~~~~~~~~~~~~\n",
      "Epoch 2200\n",
      "Cross-entropy loss: 0.008672056794166565\n",
      "Accuracy:0.8898739814758301\n",
      "~~~~~~~~~~~~~~~~~~~~~~~~~~~~~~~~~~~~~~~~\n",
      "Epoch 2300\n",
      "Cross-entropy loss: 0.007905799150466918\n",
      "Accuracy:0.8919034600257874\n",
      "~~~~~~~~~~~~~~~~~~~~~~~~~~~~~~~~~~~~~~~~\n",
      "Epoch 2400\n",
      "Cross-entropy loss: 0.009003093242645263\n",
      "Accuracy:0.8956419825553894\n",
      "~~~~~~~~~~~~~~~~~~~~~~~~~~~~~~~~~~~~~~~~\n",
      "Epoch 2500\n",
      "Cross-entropy loss: 0.008065415024757385\n",
      "Accuracy:0.8960692286491394\n",
      "~~~~~~~~~~~~~~~~~~~~~~~~~~~~~~~~~~~~~~~~\n",
      "Epoch 2600\n",
      "Cross-entropy loss: 0.007815359830856324\n",
      "Accuracy:0.8984191417694092\n",
      "~~~~~~~~~~~~~~~~~~~~~~~~~~~~~~~~~~~~~~~~\n",
      "Epoch 2700\n",
      "Cross-entropy loss: 0.007758180499076843\n",
      "Accuracy:0.899487316608429\n",
      "~~~~~~~~~~~~~~~~~~~~~~~~~~~~~~~~~~~~~~~~\n",
      "Epoch 2800\n",
      "Cross-entropy loss: 0.008021671772003174\n",
      "Accuracy:0.9018906354904175\n",
      "~~~~~~~~~~~~~~~~~~~~~~~~~~~~~~~~~~~~~~~~\n",
      "Epoch 2900\n",
      "Cross-entropy loss: 0.007238051891326904\n",
      "Accuracy:0.9012497067451477\n",
      "~~~~~~~~~~~~~~~~~~~~~~~~~~~~~~~~~~~~~~~~\n",
      "Epoch 3000\n",
      "Cross-entropy loss: 0.0075719887018203735\n",
      "Accuracy:0.9033860564231873\n",
      "~~~~~~~~~~~~~~~~~~~~~~~~~~~~~~~~~~~~~~~~\n",
      "Epoch 3100\n",
      "Cross-entropy loss: 0.007785589098930359\n",
      "Accuracy:0.9048280119895935\n",
      "~~~~~~~~~~~~~~~~~~~~~~~~~~~~~~~~~~~~~~~~\n",
      "Epoch 3200\n",
      "Cross-entropy loss: 0.007360145449638367\n",
      "Accuracy:0.904934823513031\n",
      "~~~~~~~~~~~~~~~~~~~~~~~~~~~~~~~~~~~~~~~~\n",
      "Epoch 3300\n",
      "Cross-entropy loss: 0.008164969682693481\n",
      "Accuracy:0.9046677947044373\n",
      "~~~~~~~~~~~~~~~~~~~~~~~~~~~~~~~~~~~~~~~~\n",
      "Epoch 3400\n",
      "Cross-entropy loss: 0.007131940126419068\n",
      "Accuracy:0.9080324769020081\n",
      "~~~~~~~~~~~~~~~~~~~~~~~~~~~~~~~~~~~~~~~~\n",
      "Epoch 3500\n",
      "Cross-entropy loss: 0.007146036028861999\n",
      "Accuracy:0.9089937806129456\n",
      "~~~~~~~~~~~~~~~~~~~~~~~~~~~~~~~~~~~~~~~~\n",
      "Epoch 3600\n",
      "Cross-entropy loss: 0.007129325270652771\n",
      "Accuracy:0.9091005921363831\n",
      "~~~~~~~~~~~~~~~~~~~~~~~~~~~~~~~~~~~~~~~~\n",
      "Epoch 3700\n",
      "Cross-entropy loss: 0.007070362567901611\n",
      "Accuracy:0.9094210863113403\n",
      "~~~~~~~~~~~~~~~~~~~~~~~~~~~~~~~~~~~~~~~~\n",
      "Epoch 3800\n",
      "Cross-entropy loss: 0.007374327182769775\n",
      "Accuracy:0.9109164476394653\n",
      "~~~~~~~~~~~~~~~~~~~~~~~~~~~~~~~~~~~~~~~~\n",
      "Epoch 3900\n",
      "Cross-entropy loss: 0.006546026468276978\n",
      "Accuracy:0.9113971590995789\n",
      "~~~~~~~~~~~~~~~~~~~~~~~~~~~~~~~~~~~~~~~~\n",
      "Epoch 4000\n",
      "Cross-entropy loss: 0.006747602820396424\n",
      "Accuracy:0.9128925204277039\n",
      "~~~~~~~~~~~~~~~~~~~~~~~~~~~~~~~~~~~~~~~~\n",
      "Epoch 4100\n",
      "Cross-entropy loss: 0.0070649290084838865\n",
      "Accuracy:0.9106494188308716\n",
      "~~~~~~~~~~~~~~~~~~~~~~~~~~~~~~~~~~~~~~~~\n",
      "Epoch 4200\n",
      "Cross-entropy loss: 0.007593507170677185\n",
      "Accuracy:0.9145481586456299\n",
      "~~~~~~~~~~~~~~~~~~~~~~~~~~~~~~~~~~~~~~~~\n",
      "Epoch 4300\n",
      "Cross-entropy loss: 0.0070133042335510255\n",
      "Accuracy:0.9139072895050049\n",
      "~~~~~~~~~~~~~~~~~~~~~~~~~~~~~~~~~~~~~~~~\n",
      "Epoch 4400\n",
      "Cross-entropy loss: 0.007381142973899841\n",
      "Accuracy:0.9135868549346924\n",
      "~~~~~~~~~~~~~~~~~~~~~~~~~~~~~~~~~~~~~~~~\n",
      "Epoch 4500\n",
      "Cross-entropy loss: 0.007288939356803894\n",
      "Accuracy:0.9147083759307861\n",
      "~~~~~~~~~~~~~~~~~~~~~~~~~~~~~~~~~~~~~~~~\n",
      "Epoch 4600\n",
      "Cross-entropy loss: 0.007164672017097473\n",
      "Accuracy:0.9156697392463684\n",
      "~~~~~~~~~~~~~~~~~~~~~~~~~~~~~~~~~~~~~~~~\n",
      "Epoch 4700\n",
      "Cross-entropy loss: 0.006782258749008179\n",
      "Accuracy:0.9164174199104309\n",
      "~~~~~~~~~~~~~~~~~~~~~~~~~~~~~~~~~~~~~~~~\n",
      "Epoch 4800\n",
      "Cross-entropy loss: 0.007105971574783325\n",
      "Accuracy:0.9152958989143372\n",
      "~~~~~~~~~~~~~~~~~~~~~~~~~~~~~~~~~~~~~~~~\n",
      "Epoch 4900\n",
      "Cross-entropy loss: 0.007192404866218567\n",
      "Accuracy:0.9158299565315247\n",
      "~~~~~~~~~~~~~~~~~~~~~~~~~~~~~~~~~~~~~~~~\n",
      "Epoch 5000\n",
      "Cross-entropy loss: 0.006436143517494202\n",
      "Accuracy:0.9176458120346069\n",
      "~~~~~~~~~~~~~~~~~~~~~~~~~~~~~~~~~~~~~~~~\n",
      "Took: 488.3032445907593\n"
     ]
    },
    {
     "data": {
      "image/png": "[encoded data removed]",
      "text/plain": [
       "<matplotlib.figure.Figure at 0x7f50c40d6fd0>"
      ]
     },
     "metadata": {},
     "output_type": "display_data"
    }
   ],
   "source": [
    "epochs = 5000\n",
    "learning_rate = 0.01\n",
    "beta_input = 0.01\n",
    "batch_size = 1000\n",
    "\n",
    "run_session(graph, epochs, learning_rate, beta_input, batch_size)"
   ]
  }
 ],
 "metadata": {
  "kernelspec": {
   "display_name": "Python 3",
   "language": "python",
   "name": "python3"
  },
  "language_info": {
   "codemirror_mode": {
    "name": "ipython",
    "version": 3
   },
   "file_extension": ".py",
   "mimetype": "text/x-python",
   "name": "python",
   "nbconvert_exporter": "python",
   "pygments_lexer": "ipython3",
   "version": "3.5.2"
  }
 },
 "nbformat": 4,
 "nbformat_minor": 2
}
