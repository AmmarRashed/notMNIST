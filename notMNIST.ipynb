{
 "cells": [
  {
   "cell_type": "code",
   "execution_count": 1,
   "metadata": {},
   "outputs": [],
   "source": [
    "from __future__ import print_function, division, absolute_import\n",
    "\n",
    "from six.moves.urllib.request import urlretrieve\n",
    "from six.moves import cPickle as pickle"
   ]
  },
  {
   "cell_type": "code",
   "execution_count": 42,
   "metadata": {},
   "outputs": [],
   "source": [
    "import os, sys, warnings\n",
    "import ntpath\n",
    "\n",
    "import tarfile\n",
    "\n",
    "import imageio\n",
    "\n",
    "from collections import deque\n",
    "from joblib import Parallel, delayed\n",
    "\n",
    "import numpy as np\n",
    "\n",
    "from IPython.display import display, Image\n",
    "\n",
    "from sklearn.linear_model import LogisticRegression\n",
    "from sklearn.model_selection import train_test_split, GridSearchCV\n",
    "from sklearn.metrics.classification import accuracy_score"
   ]
  },
  {
   "cell_type": "code",
   "execution_count": 3,
   "metadata": {},
   "outputs": [],
   "source": [
    "from matplotlib import pyplot as plt\n",
    "%matplotlib inline "
   ]
  },
  {
   "cell_type": "markdown",
   "metadata": {},
   "source": [
    "### Downloading the data"
   ]
  },
  {
   "cell_type": "code",
   "execution_count": 4,
   "metadata": {},
   "outputs": [],
   "source": [
    "url = 'https://commondatastorage.googleapis.com/books1000/'\n",
    "data_root = 'data'\n",
    "last_percent = None\n",
    "def download_progress(count, block_size, total_size):\n",
    "    global last_percent\n",
    "    percent = count*block_size*100 // total_size\n",
    "    if last_percent != percent:\n",
    "        if percent %5 == 0:\n",
    "            sys.stdout.write(\"%s%%\"%percent)\n",
    "            sys.stdout.flush()\n",
    "        else:\n",
    "            sys.stdout.write(\"~\")\n",
    "            sys.stdout.flush()\n",
    "    last_percent = percent\n",
    "\n",
    "def maybe_download(filename, force=False):\n",
    "    if not os.path.exists(data_root):\n",
    "        os.mkdir(data_root)\n",
    "    dest_filename = os.path.join(data_root, filename)\n",
    "    if force or not os.path.exists(dest_filename):\n",
    "        print(\"Downloading:\", filename)\n",
    "        filename, _ = urlretrieve(url+filename, dest_filename, reporthook=download_progress)\n",
    "        print(\"\\nDownload complete!\")\n",
    "    return os.path.join(data_root, filename)"
   ]
  },
  {
   "cell_type": "code",
   "execution_count": 5,
   "metadata": {},
   "outputs": [],
   "source": [
    "def maybe_extract(filename, force=False):\n",
    "    filename_raw = os.path.splitext(os.path.splitext(filename)[0])[0]  # remove .tar.gz\n",
    "    print(filename_raw)\n",
    "    if os.path.isdir(filename_raw) and not force:\n",
    "        print(\"{0} exists, Skipping extraction.\".format(filename_raw))\n",
    "    else:\n",
    "        # data_root = os.path.dirname(os.path.splitext(os.path.splitext(test_filename)[0])[0])\n",
    "        with tarfile.open(filename) as tar:\n",
    "            tar.extractall(data_root)\n",
    "    data_folders = [os.path.join(filename_raw, d) for d in sorted(os.listdir(filename_raw))\n",
    "    if os.path.isdir(os.path.join(filename_raw, d))]\n",
    "    return data_folders"
   ]
  },
  {
   "cell_type": "code",
   "execution_count": 6,
   "metadata": {},
   "outputs": [
    {
     "name": "stdout",
     "output_type": "stream",
     "text": [
      "Downloading: notMNIST_large.tar.gz\n",
      "0%~~~~5%~~~~10%~~~~15%~~~~20%~~~~25%~~~~30%~~~~35%~~~~40%~~~~45%~~~~50%~~~~55%~~~~60%~~~~65%~~~~70%~~~~75%~~~~80%~~~~85%~~~~90%~~~~95%~~~~100%\n",
      "Download complete!\n",
      "Downloading: notMNIST_small.tar.gz\n",
      "0%~~~~5%~~~~10%~~~~15%~~~~20%~~~~25%~~~~30%~~~~35%~~~~40%~~~~45%~~~~50%~~~~55%~~~~60%~~~~65%~~~~70%~~~~75%~~~~80%~~~~85%~~~~90%~~~~95%~~~~100%\n",
      "Download complete!\n"
     ]
    }
   ],
   "source": [
    "train_filename = maybe_download(\"notMNIST_large.tar.gz\",)\n",
    "test_filename = maybe_download(\"notMNIST_small.tar.gz\")"
   ]
  },
  {
   "cell_type": "code",
   "execution_count": 7,
   "metadata": {},
   "outputs": [
    {
     "data": {
      "text/plain": [
       "('data/notMNIST_large.tar.gz', 'data/notMNIST_small.tar.gz')"
      ]
     },
     "execution_count": 7,
     "metadata": {},
     "output_type": "execute_result"
    }
   ],
   "source": [
    "train_filename, test_filename"
   ]
  },
  {
   "cell_type": "code",
   "execution_count": 8,
   "metadata": {},
   "outputs": [
    {
     "name": "stdout",
     "output_type": "stream",
     "text": [
      "data/notMNIST_large\n",
      "data/notMNIST_large exists, Skipping extraction.\n",
      "data/notMNIST_small\n",
      "data/notMNIST_small exists, Skipping extraction.\n"
     ]
    },
    {
     "data": {
      "text/plain": [
       "(['data/notMNIST_large/A',\n",
       "  'data/notMNIST_large/B',\n",
       "  'data/notMNIST_large/C',\n",
       "  'data/notMNIST_large/D',\n",
       "  'data/notMNIST_large/E',\n",
       "  'data/notMNIST_large/F',\n",
       "  'data/notMNIST_large/G',\n",
       "  'data/notMNIST_large/H',\n",
       "  'data/notMNIST_large/I',\n",
       "  'data/notMNIST_large/J'],\n",
       " ['data/notMNIST_small/A',\n",
       "  'data/notMNIST_small/B',\n",
       "  'data/notMNIST_small/C',\n",
       "  'data/notMNIST_small/D',\n",
       "  'data/notMNIST_small/E',\n",
       "  'data/notMNIST_small/F',\n",
       "  'data/notMNIST_small/G',\n",
       "  'data/notMNIST_small/H',\n",
       "  'data/notMNIST_small/I',\n",
       "  'data/notMNIST_small/J'])"
      ]
     },
     "execution_count": 8,
     "metadata": {},
     "output_type": "execute_result"
    }
   ],
   "source": [
    "train_folders = maybe_extract(train_filename)\n",
    "test_folders = maybe_extract(test_filename)\n",
    "train_folders, test_folders"
   ]
  },
  {
   "cell_type": "code",
   "execution_count": 15,
   "metadata": {},
   "outputs": [
    {
     "data": {
      "image/png": "[encoded data removed]",
      "text/plain": [
       "<IPython.core.display.Image object>"
      ]
     },
     "metadata": {},
     "output_type": "display_data"
    },
    {
     "data": {
      "image/png": "[encoded data removed]",
      "text/plain": [
       "<IPython.core.display.Image object>"
      ]
     },
     "metadata": {},
     "output_type": "display_data"
    },
    {
     "data": {
      "image/png": "[encoded data removed]",
      "text/plain": [
       "<IPython.core.display.Image object>"
      ]
     },
     "metadata": {},
     "output_type": "display_data"
    },
    {
     "data": {
      "image/png": "[encoded data removed]",
      "text/plain": [
       "<IPython.core.display.Image object>"
      ]
     },
     "metadata": {},
     "output_type": "display_data"
    },
    {
     "data": {
      "image/png": "[encoded data removed]",
      "text/plain": [
       "<IPython.core.display.Image object>"
      ]
     },
     "metadata": {},
     "output_type": "display_data"
    },
    {
     "data": {
      "image/png": "[encoded data removed]",
      "text/plain": [
       "<IPython.core.display.Image object>"
      ]
     },
     "metadata": {},
     "output_type": "display_data"
    },
    {
     "data": {
      "image/png": "[encoded data removed]",
      "text/plain": [
       "<IPython.core.display.Image object>"
      ]
     },
     "metadata": {},
     "output_type": "display_data"
    },
    {
     "data": {
      "image/png": "[encoded data removed]",
      "text/plain": [
       "<IPython.core.display.Image object>"
      ]
     },
     "metadata": {},
     "output_type": "display_data"
    },
    {
     "data": {
      "image/png": "[encoded data removed]",
      "text/plain": [
       "<IPython.core.display.Image object>"
      ]
     },
     "metadata": {},
     "output_type": "display_data"
    },
    {
     "data": {
      "image/png": "[encoded data removed]",
      "text/plain": [
       "<IPython.core.display.Image object>"
      ]
     },
     "metadata": {},
     "output_type": "display_data"
    }
   ],
   "source": [
    "letters=\"ABCDEFGHIJ\"\n",
    "for l in letters:\n",
    "    img_path = os.path.join(data_root, \"notMNIST_small\", l)\n",
    "    img_name = np.random.choice(os.listdir(img_path))\n",
    "    display(Image(filename=os.path.join(img_path,img_name)))"
   ]
  },
  {
   "cell_type": "markdown",
   "metadata": {},
   "source": [
    "### Image2Tensors"
   ]
  },
  {
   "cell_type": "code",
   "execution_count": 10,
   "metadata": {},
   "outputs": [],
   "source": [
    "image_size = 28\n",
    "pixel_depth = 255"
   ]
  },
  {
   "cell_type": "code",
   "execution_count": 11,
   "metadata": {},
   "outputs": [],
   "source": [
    "def get_image_data(folder, image_name, normalization_factor):\n",
    "    image_file = os.path.join(folder,image_name)\n",
    "    normalizer = lambda x, normalization_factor: (x-normalization_factor)/normalization_factor\n",
    "    try:\n",
    "        image_data_raw = imageio.imread(image_file)\n",
    "    except Exception as e:\n",
    "        print(\"ERROR READING {}\".format(image_file),e)\n",
    "        return \"<INVALID>\"\n",
    "    image_data = normalizer(image_data_raw, normalization_factor)\n",
    "    if image_data.shape != (image_size, image_size):\n",
    "        warnings.warn(\"Unexpected image shape: {}\".format(image_data.shape))\n",
    "        return \"<INVALID>\"\n",
    "    else:\n",
    "        return image_data\n",
    "\n",
    "\n",
    "def load_letter(folder, min_num_images, parallel=True):\n",
    "    \"\"\"Loading the data for a single letter label\"\"\"\n",
    "    image_files = os.listdir(folder)\n",
    "    normalization_factor = (pixel_depth+1)//2\n",
    "    print(folder)\n",
    "    if parallel:\n",
    "        images = Parallel(n_jobs=-1)(delayed(get_image_data)(\n",
    "            folder, image_name, normalization_factor)for image_name in image_files)\n",
    "        images = [i for i in images if type(i)!=str]\n",
    "    else:\n",
    "        images = deque(maxlen=len(image_files))\n",
    "        normalize = lambda x, normalization_factor: (x-normalization_factor)/normalization_factor\n",
    "        for image_name in image_files:\n",
    "            image_file = os.path.join(folder,image_name)\n",
    "            try:\n",
    "                image_data_raw = imageio.imread(image_file)\n",
    "            except Exception as e:\n",
    "                print(\"Couldn't read {}\".format(image_file), e)\n",
    "                continue\n",
    "            image_data = normalize(image_data_raw, normalization_factor)\n",
    "            if image_data.shape != (image_size, image_size):\n",
    "                warnings.warn(\"Unexpected image shape: {}\".format(image_data.shape))\n",
    "                continue\n",
    "            else:\n",
    "                images.append(image_data)\n",
    "    \n",
    "    if len(images)<min_num_images:\n",
    "        raise Exception(\"Minimum number of instances is {0}. Got {1} instead.\".format(min_num_images, len(images)))\n",
    "    dataset = np.ndarray(shape=(len(images), image_size, image_size))\n",
    "    \n",
    "    for i in range(len(images)):\n",
    "        dataset[i, :, :] = images[i]\n",
    "    print(\"Full dataset tensor:\", dataset.shape)\n",
    "    print(\"Mean:\", np.mean(dataset))\n",
    "    print(\"Standar deviation:\", np.std(dataset))\n",
    "    return dataset"
   ]
  },
  {
   "cell_type": "code",
   "execution_count": 12,
   "metadata": {},
   "outputs": [],
   "source": [
    "def pickle_folder_data(folder, min_num_images_per_class, force):\n",
    "    set_filename = \"{}.pickle\".format(folder)\n",
    "    if not force and os.path.exists(set_filename):\n",
    "        print(\"{} already exists. Skipping pickling\".format(set_filename))\n",
    "    else:\n",
    "        dataset = load_letter(folder, min_num_images_per_class, parallel=False)\n",
    "        try:\n",
    "            with open(set_filename,\"wb\") as f:\n",
    "                pickle.dump(dataset, f)\n",
    "        except Exception as e:\n",
    "            print(\"Unable to save {}\".format(set_filename), e)\n",
    "            return\n",
    "    return set_filename\n",
    "\n",
    "def maybe_pickle(data_folders, min_num_images_per_class, force=False):\n",
    "    dataset_names = Parallel(n_jobs=-1)(delayed(pickle_folder_data)(\n",
    "        folder, min_num_images_per_class, force)for folder in data_folders)\n",
    "    return dataset_names"
   ]
  },
  {
   "cell_type": "code",
   "execution_count": 13,
   "metadata": {},
   "outputs": [
    {
     "name": "stdout",
     "output_type": "stream",
     "text": [
      "data/notMNIST_large/A.pickle already exists. Skipping pickling\n",
      "data/notMNIST_large/B.pickle already exists. Skipping pickling\n",
      "data/notMNIST_large/F.pickle already exists. Skipping pickling\n",
      "data/notMNIST_large/D.pickle already exists. Skipping pickling\n",
      "data/notMNIST_large/E.pickle already exists. Skipping pickling\n",
      "data/notMNIST_large/C.pickle already exists. Skipping pickling\n",
      "data/notMNIST_large/I.pickle already exists. Skipping pickling\n",
      "data/notMNIST_large/J.pickle already exists. Skipping pickling\n",
      "data/notMNIST_large/H.pickle already exists. Skipping pickling\n",
      "data/notMNIST_large/G.pickle already exists. Skipping pickling\n"
     ]
    }
   ],
   "source": [
    "train_datasets = maybe_pickle(train_folders, 45000)"
   ]
  },
  {
   "cell_type": "code",
   "execution_count": 14,
   "metadata": {},
   "outputs": [
    {
     "name": "stdout",
     "output_type": "stream",
     "text": [
      "data/notMNIST_small/D.pickle already exists. Skipping pickling\n",
      "data/notMNIST_small/E.pickle already exists. Skipping pickling\n",
      "data/notMNIST_small/F.pickle already exists. Skipping pickling\n",
      "data/notMNIST_small/G.pickle already exists. Skipping pickling\n",
      "data/notMNIST_small/A.pickle already exists. Skipping pickling\n",
      "data/notMNIST_small/H.pickle already exists. Skipping pickling\n",
      "data/notMNIST_small/I.pickle already exists. Skipping pickling\n",
      "data/notMNIST_small/C.pickle already exists. Skipping pickling\n",
      "data/notMNIST_small/B.pickle already exists. Skipping pickling\n",
      "data/notMNIST_small/J.pickle already exists. Skipping pickling\n"
     ]
    }
   ],
   "source": [
    "test_datasets = maybe_pickle(test_folders, 1800)"
   ]
  },
  {
   "cell_type": "code",
   "execution_count": 15,
   "metadata": {},
   "outputs": [
    {
     "data": {
      "text/plain": [
       "['data/notMNIST_large/A.pickle',\n",
       " 'data/notMNIST_large/B.pickle',\n",
       " 'data/notMNIST_large/C.pickle',\n",
       " 'data/notMNIST_large/D.pickle',\n",
       " 'data/notMNIST_large/E.pickle',\n",
       " 'data/notMNIST_large/F.pickle',\n",
       " 'data/notMNIST_large/G.pickle',\n",
       " 'data/notMNIST_large/H.pickle',\n",
       " 'data/notMNIST_large/I.pickle',\n",
       " 'data/notMNIST_large/J.pickle']"
      ]
     },
     "execution_count": 15,
     "metadata": {},
     "output_type": "execute_result"
    }
   ],
   "source": [
    "train_datasets"
   ]
  },
  {
   "cell_type": "code",
   "execution_count": 16,
   "metadata": {},
   "outputs": [
    {
     "data": {
      "text/plain": [
       "['data/notMNIST_small/A.pickle',\n",
       " 'data/notMNIST_small/B.pickle',\n",
       " 'data/notMNIST_small/C.pickle',\n",
       " 'data/notMNIST_small/D.pickle',\n",
       " 'data/notMNIST_small/E.pickle',\n",
       " 'data/notMNIST_small/F.pickle',\n",
       " 'data/notMNIST_small/G.pickle',\n",
       " 'data/notMNIST_small/H.pickle',\n",
       " 'data/notMNIST_small/I.pickle',\n",
       " 'data/notMNIST_small/J.pickle']"
      ]
     },
     "execution_count": 16,
     "metadata": {},
     "output_type": "execute_result"
    }
   ],
   "source": [
    "test_datasets"
   ]
  },
  {
   "cell_type": "code",
   "execution_count": 47,
   "metadata": {},
   "outputs": [],
   "source": [
    "labels_dict = dict()\n",
    "\n",
    "def merge_datasets(pickle_files, train_size=0.8, validation_size=0.1):\n",
    "    datasets = deque()\n",
    "    labels = deque()\n",
    "    for f in pickle_files:\n",
    "        label = ntpath.basename(f).split(\".\")[0]\n",
    "        labels_dict.setdefault(label, len(labels_dict))\n",
    "        \n",
    "        dataset = pickle.load(open(f,'rb'))\n",
    "        datasets.append(dataset)\n",
    "        labels.append(np.ones(len(dataset))*labels_dict[label])\n",
    "    datasets = np.concatenate(datasets, axis=0)\n",
    "    labels = np.concatenate(labels, axis=0)\n",
    "    print(\"Dataset shape is: {0}\\nLabels shape is: {1}\".format(datasets.shape, labels.shape))\n",
    "    \n",
    "    permutation = np.random.permutation(len(datasets))\n",
    "    return datasets[permutation,:,:], labels[permutation]"
   ]
  },
  {
   "cell_type": "code",
   "execution_count": 48,
   "metadata": {},
   "outputs": [
    {
     "name": "stdout",
     "output_type": "stream",
     "text": [
      "Dataset shape is: (529114, 28, 28)\n",
      "Labels shape is: (529114,)\n",
      "Dataset shape is: (18724, 28, 28)\n",
      "Labels shape is: (18724,)\n"
     ]
    }
   ],
   "source": [
    "train_X, train_y = merge_datasets(train_datasets)\n",
    "test_X, test_y = merge_datasets(test_datasets)"
   ]
  },
  {
   "cell_type": "code",
   "execution_count": 21,
   "metadata": {},
   "outputs": [],
   "source": [
    "pickle_file = os.path.join(data_root, 'notMNIST.pickle')\n",
    "try:\n",
    "    with open(pickle_file, 'wb') as f:\n",
    "        pickle.dump({\n",
    "            \"train_X\":train_X,\n",
    "            \"train_y\":train_y,\n",
    "            \"test_X\":test_X,\n",
    "            \"test_y\":test_y\n",
    "        }, f)\n",
    "except Exception as e:\n",
    "    print(\"Could save the dataset: \",e)"
   ]
  },
  {
   "cell_type": "code",
   "execution_count": 22,
   "metadata": {},
   "outputs": [
    {
     "name": "stdout",
     "output_type": "stream",
     "text": [
      "Compressed pickle size: 3440422990\n"
     ]
    }
   ],
   "source": [
    "statinfo = os.stat(pickle_file)\n",
    "print('Compressed pickle size:', statinfo.st_size)"
   ]
  },
  {
   "cell_type": "code",
   "execution_count": 49,
   "metadata": {},
   "outputs": [
    {
     "name": "stdout",
     "output_type": "stream",
     "text": [
      "(529114, 784) (18724, 784)\n"
     ]
    }
   ],
   "source": [
    "train_X = np.array([i.flatten() for i in train_X])\n",
    "test_X = np.array([i.flatten() for i in test_X])\n",
    "print(train_X.shape, test_X.shape)"
   ]
  },
  {
   "cell_type": "code",
   "execution_count": 50,
   "metadata": {
    "scrolled": false
   },
   "outputs": [
    {
     "data": {
      "image/png": "[encoded data removed]",
      "text/plain": [
       "<matplotlib.figure.Figure at 0x7f634b621b38>"
      ]
     },
     "metadata": {},
     "output_type": "display_data"
    },
    {
     "data": {
      "image/png": "[encoded data removed]",
      "text/plain": [
       "<matplotlib.figure.Figure at 0x7f634b62e198>"
      ]
     },
     "metadata": {},
     "output_type": "display_data"
    },
    {
     "data": {
      "image/png": "[encoded data removed]",
      "text/plain": [
       "<matplotlib.figure.Figure at 0x7f6313c85780>"
      ]
     },
     "metadata": {},
     "output_type": "display_data"
    },
    {
     "data": {
      "image/png": "[encoded data removed]",
      "text/plain": [
       "<matplotlib.figure.Figure at 0x7f6313caa1d0>"
      ]
     },
     "metadata": {},
     "output_type": "display_data"
    },
    {
     "data": {
      "image/png": "[encoded data removed]",
      "text/plain": [
       "<matplotlib.figure.Figure at 0x7f634b4d32e8>"
      ]
     },
     "metadata": {},
     "output_type": "display_data"
    },
    {
     "data": {
      "image/png": "[encoded data removed]",
      "text/plain": [
       "<matplotlib.figure.Figure at 0x7f634b4e6080>"
      ]
     },
     "metadata": {},
     "output_type": "display_data"
    },
    {
     "data": {
      "image/png": "[encoded data removed]",
      "text/plain": [
       "<matplotlib.figure.Figure at 0x7f634b5d4d68>"
      ]
     },
     "metadata": {},
     "output_type": "display_data"
    },
    {
     "data": {
      "image/png": "[encoded data removed]",
      "text/plain": [
       "<matplotlib.figure.Figure at 0x7f634b588be0>"
      ]
     },
     "metadata": {},
     "output_type": "display_data"
    },
    {
     "data": {
      "image/png": "[encoded data removed]",
      "text/plain": [
       "<matplotlib.figure.Figure at 0x7f634b5b9320>"
      ]
     },
     "metadata": {},
     "output_type": "display_data"
    },
    {
     "data": {
      "image/png": "[encoded data removed]",
      "text/plain": [
       "<matplotlib.figure.Figure at 0x7f634b56fd68>"
      ]
     },
     "metadata": {},
     "output_type": "display_data"
    }
   ],
   "source": [
    "for i in range(10):\n",
    "    img_mat = train_X[np.random.choice(range(len(train_X)-1))].reshape(image_size, image_size)*128+128\n",
    "    plt.imshow(img_mat)\n",
    "    plt.show()"
   ]
  },
  {
   "cell_type": "markdown",
   "metadata": {},
   "source": [
    "### Creating the model"
   ]
  },
  {
   "cell_type": "code",
   "execution_count": 39,
   "metadata": {},
   "outputs": [
    {
     "name": "stderr",
     "output_type": "stream",
     "text": [
      "/usr/local/lib/python3.5/dist-packages/sklearn/linear_model/sag.py:326: ConvergenceWarning: The max_iter was reached which means the coef_ did not converge\n",
      "  \"the coef_ did not converge\", ConvergenceWarning)\n",
      "/usr/local/lib/python3.5/dist-packages/sklearn/linear_model/sag.py:326: ConvergenceWarning: The max_iter was reached which means the coef_ did not converge\n",
      "  \"the coef_ did not converge\", ConvergenceWarning)\n",
      "/usr/local/lib/python3.5/dist-packages/sklearn/linear_model/sag.py:326: ConvergenceWarning: The max_iter was reached which means the coef_ did not converge\n",
      "  \"the coef_ did not converge\", ConvergenceWarning)\n",
      "/usr/local/lib/python3.5/dist-packages/sklearn/linear_model/sag.py:326: ConvergenceWarning: The max_iter was reached which means the coef_ did not converge\n",
      "  \"the coef_ did not converge\", ConvergenceWarning)\n",
      "/usr/local/lib/python3.5/dist-packages/sklearn/linear_model/sag.py:326: ConvergenceWarning: The max_iter was reached which means the coef_ did not converge\n",
      "  \"the coef_ did not converge\", ConvergenceWarning)\n",
      "/usr/local/lib/python3.5/dist-packages/sklearn/linear_model/sag.py:326: ConvergenceWarning: The max_iter was reached which means the coef_ did not converge\n",
      "  \"the coef_ did not converge\", ConvergenceWarning)\n",
      "/usr/local/lib/python3.5/dist-packages/sklearn/linear_model/sag.py:326: ConvergenceWarning: The max_iter was reached which means the coef_ did not converge\n",
      "  \"the coef_ did not converge\", ConvergenceWarning)\n",
      "/usr/local/lib/python3.5/dist-packages/sklearn/linear_model/sag.py:326: ConvergenceWarning: The max_iter was reached which means the coef_ did not converge\n",
      "  \"the coef_ did not converge\", ConvergenceWarning)\n",
      "/usr/local/lib/python3.5/dist-packages/sklearn/linear_model/sag.py:326: ConvergenceWarning: The max_iter was reached which means the coef_ did not converge\n",
      "  \"the coef_ did not converge\", ConvergenceWarning)\n",
      "/usr/local/lib/python3.5/dist-packages/sklearn/linear_model/sag.py:326: ConvergenceWarning: The max_iter was reached which means the coef_ did not converge\n",
      "  \"the coef_ did not converge\", ConvergenceWarning)\n",
      "/usr/local/lib/python3.5/dist-packages/sklearn/linear_model/sag.py:326: ConvergenceWarning: The max_iter was reached which means the coef_ did not converge\n",
      "  \"the coef_ did not converge\", ConvergenceWarning)\n",
      "/usr/local/lib/python3.5/dist-packages/sklearn/linear_model/sag.py:326: ConvergenceWarning: The max_iter was reached which means the coef_ did not converge\n",
      "  \"the coef_ did not converge\", ConvergenceWarning)\n",
      "/usr/local/lib/python3.5/dist-packages/sklearn/linear_model/sag.py:326: ConvergenceWarning: The max_iter was reached which means the coef_ did not converge\n",
      "  \"the coef_ did not converge\", ConvergenceWarning)\n",
      "/usr/local/lib/python3.5/dist-packages/sklearn/linear_model/sag.py:326: ConvergenceWarning: The max_iter was reached which means the coef_ did not converge\n",
      "  \"the coef_ did not converge\", ConvergenceWarning)\n",
      "/usr/local/lib/python3.5/dist-packages/sklearn/linear_model/sag.py:326: ConvergenceWarning: The max_iter was reached which means the coef_ did not converge\n",
      "  \"the coef_ did not converge\", ConvergenceWarning)\n",
      "/usr/local/lib/python3.5/dist-packages/sklearn/linear_model/sag.py:326: ConvergenceWarning: The max_iter was reached which means the coef_ did not converge\n",
      "  \"the coef_ did not converge\", ConvergenceWarning)\n",
      "/usr/local/lib/python3.5/dist-packages/sklearn/linear_model/sag.py:326: ConvergenceWarning: The max_iter was reached which means the coef_ did not converge\n",
      "  \"the coef_ did not converge\", ConvergenceWarning)\n",
      "/usr/local/lib/python3.5/dist-packages/sklearn/linear_model/sag.py:326: ConvergenceWarning: The max_iter was reached which means the coef_ did not converge\n",
      "  \"the coef_ did not converge\", ConvergenceWarning)\n",
      "/usr/local/lib/python3.5/dist-packages/sklearn/linear_model/sag.py:326: ConvergenceWarning: The max_iter was reached which means the coef_ did not converge\n",
      "  \"the coef_ did not converge\", ConvergenceWarning)\n",
      "/usr/local/lib/python3.5/dist-packages/sklearn/linear_model/sag.py:326: ConvergenceWarning: The max_iter was reached which means the coef_ did not converge\n",
      "  \"the coef_ did not converge\", ConvergenceWarning)\n",
      "/usr/local/lib/python3.5/dist-packages/sklearn/linear_model/sag.py:326: ConvergenceWarning: The max_iter was reached which means the coef_ did not converge\n",
      "  \"the coef_ did not converge\", ConvergenceWarning)\n",
      "/usr/local/lib/python3.5/dist-packages/sklearn/linear_model/sag.py:326: ConvergenceWarning: The max_iter was reached which means the coef_ did not converge\n",
      "  \"the coef_ did not converge\", ConvergenceWarning)\n",
      "/usr/local/lib/python3.5/dist-packages/sklearn/linear_model/sag.py:326: ConvergenceWarning: The max_iter was reached which means the coef_ did not converge\n",
      "  \"the coef_ did not converge\", ConvergenceWarning)\n",
      "/usr/local/lib/python3.5/dist-packages/sklearn/linear_model/sag.py:326: ConvergenceWarning: The max_iter was reached which means the coef_ did not converge\n",
      "  \"the coef_ did not converge\", ConvergenceWarning)\n",
      "/usr/local/lib/python3.5/dist-packages/sklearn/linear_model/sag.py:326: ConvergenceWarning: The max_iter was reached which means the coef_ did not converge\n",
      "  \"the coef_ did not converge\", ConvergenceWarning)\n",
      "/usr/local/lib/python3.5/dist-packages/sklearn/linear_model/sag.py:326: ConvergenceWarning: The max_iter was reached which means the coef_ did not converge\n",
      "  \"the coef_ did not converge\", ConvergenceWarning)\n",
      "/usr/local/lib/python3.5/dist-packages/sklearn/linear_model/sag.py:326: ConvergenceWarning: The max_iter was reached which means the coef_ did not converge\n",
      "  \"the coef_ did not converge\", ConvergenceWarning)\n",
      "/usr/local/lib/python3.5/dist-packages/sklearn/linear_model/sag.py:326: ConvergenceWarning: The max_iter was reached which means the coef_ did not converge\n",
      "  \"the coef_ did not converge\", ConvergenceWarning)\n",
      "/usr/local/lib/python3.5/dist-packages/sklearn/linear_model/sag.py:326: ConvergenceWarning: The max_iter was reached which means the coef_ did not converge\n",
      "  \"the coef_ did not converge\", ConvergenceWarning)\n",
      "/usr/local/lib/python3.5/dist-packages/sklearn/linear_model/sag.py:326: ConvergenceWarning: The max_iter was reached which means the coef_ did not converge\n",
      "  \"the coef_ did not converge\", ConvergenceWarning)\n",
      "/usr/local/lib/python3.5/dist-packages/sklearn/linear_model/sag.py:326: ConvergenceWarning: The max_iter was reached which means the coef_ did not converge\n",
      "  \"the coef_ did not converge\", ConvergenceWarning)\n"
     ]
    },
    {
     "data": {
      "text/plain": [
       "GridSearchCV(cv=None, error_score='raise',\n",
       "       estimator=LogisticRegression(C=1.0, class_weight=None, dual=False, fit_intercept=True,\n",
       "          intercept_scaling=1, max_iter=100, multi_class='multinomial',\n",
       "          n_jobs=-1, penalty='l2', random_state=None, solver='sag',\n",
       "          tol=0.0001, verbose=0, warm_start=False),\n",
       "       fit_params=None, iid=True, n_jobs=1,\n",
       "       param_grid={'C': [1.0, 2.0, 3.0, 4.0, 5.0, 6.0, 7.0, 8.0, 9.0, 10.0]},\n",
       "       pre_dispatch='2*n_jobs', refit=True, return_train_score='warn',\n",
       "       scoring=None, verbose=0)"
      ]
     },
     "execution_count": 39,
     "metadata": {},
     "output_type": "execute_result"
    }
   ],
   "source": [
    "lr = LogisticRegression(multi_class='multinomial', n_jobs=-1)\n",
    "cv = GridSearchCV(lr,{\n",
    "    'C':[i/10 for i in range(5, 106, 10)],\n",
    "    'solver':['lbfgs','newton-cg','sag','saga']\n",
    "})\n",
    "sample_indices = [np.random.choice(range(len(train_X))) for i in range(1000)]\n",
    "cv.fit(train_X[sample_indices], train_y[sample_indices])"
   ]
  },
  {
   "cell_type": "code",
   "execution_count": 55,
   "metadata": {},
   "outputs": [],
   "source": [
    "id2label = dict(zip(labels_dict.values(), labels_dict.keys()))"
   ]
  },
  {
   "cell_type": "code",
   "execution_count": 61,
   "metadata": {
    "scrolled": false
   },
   "outputs": [
    {
     "name": "stdout",
     "output_type": "stream",
     "text": [
      "Training size: 50\n",
      "Accuracy:0.14\n",
      "Predicted:8>I\n",
      "True:0>A\n"
     ]
    },
    {
     "name": "stderr",
     "output_type": "stream",
     "text": [
      "/usr/local/lib/python3.5/dist-packages/sklearn/linear_model/sag.py:326: ConvergenceWarning: The max_iter was reached which means the coef_ did not converge\n",
      "  \"the coef_ did not converge\", ConvergenceWarning)\n"
     ]
    },
    {
     "data": {
      "image/png": "[encoded data removed]",
      "text/plain": [
       "<matplotlib.figure.Figure at 0x7f634a936ef0>"
      ]
     },
     "metadata": {},
     "output_type": "display_data"
    },
    {
     "name": "stdout",
     "output_type": "stream",
     "text": [
      "Predicted:8>I\n",
      "True:4>E\n"
     ]
    },
    {
     "data": {
      "image/png": "[encoded data removed]",
      "text/plain": [
       "<matplotlib.figure.Figure at 0x7f634a8dadd8>"
      ]
     },
     "metadata": {},
     "output_type": "display_data"
    },
    {
     "name": "stdout",
     "output_type": "stream",
     "text": [
      "Predicted:7>H\n",
      "True:2>C\n"
     ]
    },
    {
     "data": {
      "image/png": "[encoded data removed]",
      "text/plain": [
       "<matplotlib.figure.Figure at 0x7f634a8947f0>"
      ]
     },
     "metadata": {},
     "output_type": "display_data"
    },
    {
     "name": "stdout",
     "output_type": "stream",
     "text": [
      "~~~~~~~~~~~~~~~~~~~~~~~~~~~~~~\n",
      "Training size: 100\n",
      "Accuracy:0.154\n",
      "Predicted:8>I\n",
      "True:2>C\n"
     ]
    },
    {
     "data": {
      "image/png": "[encoded data removed]",
      "text/plain": [
       "<matplotlib.figure.Figure at 0x7f634a8b6588>"
      ]
     },
     "metadata": {},
     "output_type": "display_data"
    },
    {
     "name": "stdout",
     "output_type": "stream",
     "text": [
      "Predicted:7>H\n",
      "True:4>E\n"
     ]
    },
    {
     "data": {
      "image/png": "[encoded data removed]",
      "text/plain": [
       "<matplotlib.figure.Figure at 0x7f634a802630>"
      ]
     },
     "metadata": {},
     "output_type": "display_data"
    },
    {
     "name": "stdout",
     "output_type": "stream",
     "text": [
      "Predicted:7>H\n",
      "True:7>H\n"
     ]
    },
    {
     "data": {
      "image/png": "[encoded data removed]",
      "text/plain": [
       "<matplotlib.figure.Figure at 0x7f634a838358>"
      ]
     },
     "metadata": {},
     "output_type": "display_data"
    },
    {
     "name": "stdout",
     "output_type": "stream",
     "text": [
      "~~~~~~~~~~~~~~~~~~~~~~~~~~~~~~\n",
      "Training size: 1000\n",
      "Accuracy:0.252\n",
      "Predicted:9>J\n",
      "True:7>H\n"
     ]
    },
    {
     "data": {
      "image/png": "[encoded data removed]",
      "text/plain": [
       "<matplotlib.figure.Figure at 0x7f634a7e2e10>"
      ]
     },
     "metadata": {},
     "output_type": "display_data"
    },
    {
     "name": "stdout",
     "output_type": "stream",
     "text": [
      "Predicted:7>H\n",
      "True:0>A\n"
     ]
    },
    {
     "data": {
      "image/png": "[encoded data removed]",
      "text/plain": [
       "<matplotlib.figure.Figure at 0x7f6313fb4908>"
      ]
     },
     "metadata": {},
     "output_type": "display_data"
    },
    {
     "name": "stdout",
     "output_type": "stream",
     "text": [
      "Predicted:5>F\n",
      "True:0>A\n"
     ]
    },
    {
     "data": {
      "image/png": "[encoded data removed]",
      "text/plain": [
       "<matplotlib.figure.Figure at 0x7f6314792748>"
      ]
     },
     "metadata": {},
     "output_type": "display_data"
    },
    {
     "name": "stdout",
     "output_type": "stream",
     "text": [
      "~~~~~~~~~~~~~~~~~~~~~~~~~~~~~~\n",
      "Training size: 5000\n",
      "Accuracy:0.3\n",
      "Predicted:8>I\n",
      "True:8>I\n"
     ]
    },
    {
     "data": {
      "image/png": "[encoded data removed]",
      "text/plain": [
       "<matplotlib.figure.Figure at 0x7f63147a2cc0>"
      ]
     },
     "metadata": {},
     "output_type": "display_data"
    },
    {
     "name": "stdout",
     "output_type": "stream",
     "text": [
      "Predicted:5>F\n",
      "True:1>B\n"
     ]
    },
    {
     "data": {
      "image/png": "[encoded data removed]",
      "text/plain": [
       "<matplotlib.figure.Figure at 0x7f6314738978>"
      ]
     },
     "metadata": {},
     "output_type": "display_data"
    },
    {
     "name": "stdout",
     "output_type": "stream",
     "text": [
      "Predicted:0>A\n",
      "True:2>C\n"
     ]
    },
    {
     "data": {
      "image/png": "[encoded data removed]",
      "text/plain": [
       "<matplotlib.figure.Figure at 0x7f63146ed0f0>"
      ]
     },
     "metadata": {},
     "output_type": "display_data"
    },
    {
     "name": "stdout",
     "output_type": "stream",
     "text": [
      "~~~~~~~~~~~~~~~~~~~~~~~~~~~~~~\n"
     ]
    },
    {
     "data": {
      "text/plain": [
       "{50: 0.14, 100: 0.154, 1000: 0.252, 5000: 0.3}"
      ]
     },
     "execution_count": 61,
     "metadata": {},
     "output_type": "execute_result"
    }
   ],
   "source": [
    "performance = dict(zip([50,100, 1000, 5000], np.zeros(4)))\n",
    "test_sample_indices = [np.random.choice(range(len(test_X))) for i in range(1000)]\n",
    "for size in sorted(performance):\n",
    "    sample_indices = [np.random.choice(range(len(train_X))) for i in range(size)]\n",
    "    lr = LogisticRegression(multi_class='multinomial', n_jobs=-1, solver='sag')\n",
    "    lr.fit(train_X[sample_indices], train_y[sample_indices])\n",
    "    \n",
    "    preds = lr.predict(test_X[test_sample_indices])\n",
    "    accuracy = accuracy_score(test_y[test_sample_indices], preds)\n",
    "    performance[size] = accuracy\n",
    "    print(\"Training size: {0}\\nAccuracy:{1}\".format(size, accuracy))\n",
    "    \n",
    "    for i in range(3):\n",
    "        idx = np.random.choice(range(len(test_sample_indices)))\n",
    "        pred = int(preds[idx])\n",
    "        true = int(test_y[idx])\n",
    "        print(\"Predicted:{0}>{1}\\nTrue:{2}>{3}\".format(pred, id2label[pred],\n",
    "                                                       true,id2label[true]))\n",
    "        img_mat = test_X[idx].reshape(image_size, image_size)*128+128\n",
    "        plt.imshow(img_mat)\n",
    "        plt.show()\n",
    "    print(\"~\"*30)\n",
    "performance"
   ]
  },
  {
   "cell_type": "code",
   "execution_count": null,
   "metadata": {},
   "outputs": [],
   "source": []
  }
 ],
 "metadata": {
  "kernelspec": {
   "display_name": "Python 3",
   "language": "python",
   "name": "python3"
  },
  "language_info": {
   "codemirror_mode": {
    "name": "ipython",
    "version": 3
   },
   "file_extension": ".py",
   "mimetype": "text/x-python",
   "name": "python",
   "nbconvert_exporter": "python",
   "pygments_lexer": "ipython3",
   "version": "3.5.2"
  }
 },
 "nbformat": 4,
 "nbformat_minor": 2
}
