{
 "cells": [
  {
   "cell_type": "code",
   "execution_count": 1,
   "metadata": {},
   "outputs": [],
   "source": [
    "from __future__ import print_function, division, absolute_import\n",
    "\n",
    "from six.moves.urllib.request import urlretrieve\n",
    "from six.moves import cPickle as pickle"
   ]
  },
  {
   "cell_type": "code",
   "execution_count": 2,
   "metadata": {},
   "outputs": [],
   "source": [
    "import os, sys, warnings\n",
    "import time\n",
    "import ntpath\n",
    "\n",
    "import tarfile\n",
    "\n",
    "import imageio\n",
    "\n",
    "from collections import deque\n",
    "from joblib import Parallel, delayed\n",
    "\n",
    "import numpy as np\n",
    "\n",
    "from IPython.display import display, Image\n",
    "\n",
    "from sklearn.linear_model import LogisticRegression\n",
    "from sklearn.model_selection import train_test_split, GridSearchCV\n",
    "from sklearn.metrics.classification import accuracy_score"
   ]
  },
  {
   "cell_type": "code",
   "execution_count": 3,
   "metadata": {},
   "outputs": [],
   "source": [
    "from matplotlib import pyplot as plt\n",
    "%matplotlib inline "
   ]
  },
  {
   "cell_type": "markdown",
   "metadata": {},
   "source": [
    "### Downloading the data"
   ]
  },
  {
   "cell_type": "code",
   "execution_count": 4,
   "metadata": {},
   "outputs": [],
   "source": [
    "url = 'https://commondatastorage.googleapis.com/books1000/'\n",
    "data_root = 'data'\n",
    "last_percent = None\n",
    "def download_progress(count, block_size, total_size):\n",
    "    global last_percent\n",
    "    percent = count*block_size*100 // total_size\n",
    "    if last_percent != percent:\n",
    "        if percent %5 == 0:\n",
    "            sys.stdout.write(\"%s%%\"%percent)\n",
    "            sys.stdout.flush()\n",
    "        else:\n",
    "            sys.stdout.write(\"~\")\n",
    "            sys.stdout.flush()\n",
    "    last_percent = percent\n",
    "\n",
    "def maybe_download(filename, force=False):\n",
    "    if not os.path.exists(data_root):\n",
    "        os.mkdir(data_root)\n",
    "    dest_filename = os.path.join(data_root, filename)\n",
    "    if force or not os.path.exists(dest_filename):\n",
    "        print(\"Downloading:\", filename)\n",
    "        filename, _ = urlretrieve(url+filename, dest_filename, reporthook=download_progress)\n",
    "        print(\"\\nDownload complete!\")\n",
    "    return os.path.join(data_root, filename)"
   ]
  },
  {
   "cell_type": "code",
   "execution_count": 5,
   "metadata": {},
   "outputs": [],
   "source": [
    "def maybe_extract(filename, force=False):\n",
    "    filename_raw = os.path.splitext(os.path.splitext(filename)[0])[0]  # remove .tar.gz\n",
    "    print(filename_raw)\n",
    "    if os.path.isdir(filename_raw) and not force:\n",
    "        print(\"{0} exists, Skipping extraction.\".format(filename_raw))\n",
    "    else:\n",
    "        # data_root = os.path.dirname(os.path.splitext(os.path.splitext(test_filename)[0])[0])\n",
    "        with tarfile.open(filename) as tar:\n",
    "            tar.extractall(data_root)\n",
    "    data_folders = [os.path.join(filename_raw, d) for d in sorted(os.listdir(filename_raw))\n",
    "    if os.path.isdir(os.path.join(filename_raw, d))]\n",
    "    return data_folders"
   ]
  },
  {
   "cell_type": "code",
   "execution_count": 6,
   "metadata": {},
   "outputs": [],
   "source": [
    "train_filename = maybe_download(\"notMNIST_large.tar.gz\",)\n",
    "test_filename = maybe_download(\"notMNIST_small.tar.gz\")"
   ]
  },
  {
   "cell_type": "code",
   "execution_count": 7,
   "metadata": {},
   "outputs": [
    {
     "data": {
      "text/plain": [
       "('data/notMNIST_large.tar.gz', 'data/notMNIST_small.tar.gz')"
      ]
     },
     "execution_count": 7,
     "metadata": {},
     "output_type": "execute_result"
    }
   ],
   "source": [
    "train_filename, test_filename"
   ]
  },
  {
   "cell_type": "code",
   "execution_count": 8,
   "metadata": {},
   "outputs": [
    {
     "name": "stdout",
     "output_type": "stream",
     "text": [
      "data/notMNIST_large\n",
      "data/notMNIST_large exists, Skipping extraction.\n",
      "data/notMNIST_small\n",
      "data/notMNIST_small exists, Skipping extraction.\n"
     ]
    },
    {
     "data": {
      "text/plain": [
       "(['data/notMNIST_large/A',\n",
       "  'data/notMNIST_large/B',\n",
       "  'data/notMNIST_large/C',\n",
       "  'data/notMNIST_large/D',\n",
       "  'data/notMNIST_large/E',\n",
       "  'data/notMNIST_large/F',\n",
       "  'data/notMNIST_large/G',\n",
       "  'data/notMNIST_large/H',\n",
       "  'data/notMNIST_large/I',\n",
       "  'data/notMNIST_large/J'],\n",
       " ['data/notMNIST_small/A',\n",
       "  'data/notMNIST_small/B',\n",
       "  'data/notMNIST_small/C',\n",
       "  'data/notMNIST_small/D',\n",
       "  'data/notMNIST_small/E',\n",
       "  'data/notMNIST_small/F',\n",
       "  'data/notMNIST_small/G',\n",
       "  'data/notMNIST_small/H',\n",
       "  'data/notMNIST_small/I',\n",
       "  'data/notMNIST_small/J'])"
      ]
     },
     "execution_count": 8,
     "metadata": {},
     "output_type": "execute_result"
    }
   ],
   "source": [
    "train_folders = maybe_extract(train_filename)\n",
    "test_folders = maybe_extract(test_filename)\n",
    "train_folders, test_folders"
   ]
  },
  {
   "cell_type": "code",
   "execution_count": 9,
   "metadata": {},
   "outputs": [
    {
     "data": {
      "image/png": "[encoded data removed]",
      "text/plain": [
       "<IPython.core.display.Image object>"
      ]
     },
     "metadata": {},
     "output_type": "display_data"
    },
    {
     "data": {
      "image/png": "[encoded data removed]",
      "text/plain": [
       "<IPython.core.display.Image object>"
      ]
     },
     "metadata": {},
     "output_type": "display_data"
    },
    {
     "data": {
      "image/png": "[encoded data removed]",
      "text/plain": [
       "<IPython.core.display.Image object>"
      ]
     },
     "metadata": {},
     "output_type": "display_data"
    },
    {
     "data": {
      "image/png": "[encoded data removed]",
      "text/plain": [
       "<IPython.core.display.Image object>"
      ]
     },
     "metadata": {},
     "output_type": "display_data"
    },
    {
     "data": {
      "image/png": "[encoded data removed]",
      "text/plain": [
       "<IPython.core.display.Image object>"
      ]
     },
     "metadata": {},
     "output_type": "display_data"
    },
    {
     "data": {
      "image/png": "[encoded data removed]",
      "text/plain": [
       "<IPython.core.display.Image object>"
      ]
     },
     "metadata": {},
     "output_type": "display_data"
    },
    {
     "data": {
      "image/png": "[encoded data removed]",
      "text/plain": [
       "<IPython.core.display.Image object>"
      ]
     },
     "metadata": {},
     "output_type": "display_data"
    },
    {
     "data": {
      "image/png": "[encoded data removed]",
      "text/plain": [
       "<IPython.core.display.Image object>"
      ]
     },
     "metadata": {},
     "output_type": "display_data"
    },
    {
     "data": {
      "image/png": "[encoded data removed]",
      "text/plain": [
       "<IPython.core.display.Image object>"
      ]
     },
     "metadata": {},
     "output_type": "display_data"
    },
    {
     "data": {
      "image/png": "[encoded data removed]",
      "text/plain": [
       "<IPython.core.display.Image object>"
      ]
     },
     "metadata": {},
     "output_type": "display_data"
    }
   ],
   "source": [
    "letters=\"ABCDEFGHIJ\"\n",
    "for l in letters:\n",
    "    img_path = os.path.join(data_root, \"notMNIST_small\", l)\n",
    "    img_name = np.random.choice(os.listdir(img_path))\n",
    "    display(Image(filename=os.path.join(img_path,img_name)))"
   ]
  },
  {
   "cell_type": "markdown",
   "metadata": {},
   "source": [
    "### Image2Tensors"
   ]
  },
  {
   "cell_type": "code",
   "execution_count": 10,
   "metadata": {},
   "outputs": [],
   "source": [
    "image_size = 28\n",
    "pixel_depth = 255"
   ]
  },
  {
   "cell_type": "code",
   "execution_count": 11,
   "metadata": {},
   "outputs": [],
   "source": [
    "def get_image_data(folder, image_name, normalization_factor):\n",
    "    image_file = os.path.join(folder,image_name)\n",
    "    normalizer = lambda x, normalization_factor: (x-normalization_factor)/normalization_factor\n",
    "    try:\n",
    "        image_data_raw = imageio.imread(image_file).astype(float)\n",
    "    except Exception as e:\n",
    "        print(\"ERROR READING {}\".format(image_file),e)\n",
    "        return \"<INVALID>\"\n",
    "    image_data = normalizer(image_data_raw, normalization_factor)\n",
    "    if image_data.shape != (image_size, image_size):\n",
    "        warnings.warn(\"Unexpected image shape: {}\".format(image_data.shape))\n",
    "        return \"<INVALID>\"\n",
    "    else:\n",
    "        return image_data\n",
    "\n",
    "\n",
    "def load_letter(folder, min_num_images, parallel=True, normalize=True):\n",
    "    \"\"\"Loading the data for a single letter label\"\"\"\n",
    "    image_files = os.listdir(folder)\n",
    "    normalization_factor = (pixel_depth+1)//2\n",
    "    print(folder, normalization_factor)\n",
    "    if parallel:\n",
    "        images = Parallel(n_jobs=-1)(delayed(get_image_data)(\n",
    "            folder, image_name, normalization_factor)for image_name in image_files)\n",
    "        images = [i for i in images if type(i)!=str]\n",
    "    else:\n",
    "        images = deque(maxlen=len(image_files))\n",
    "        normalizer = lambda x, normalization_factor: (x-normalization_factor)/normalization_factor\n",
    "        for image_name in image_files:\n",
    "            image_file = os.path.join(folder,image_name)\n",
    "            try:\n",
    "                image_data_raw = imageio.imread(image_file).astype(float)\n",
    "            except Exception as e:\n",
    "                print(\"Couldn't read {}\".format(image_file), e)\n",
    "                continue\n",
    "            if normalize:\n",
    "                image_data = normalizer(image_data_raw, normalization_factor)\n",
    "            else:\n",
    "                image_data = image_data_raw\n",
    "            if image_data.shape != (image_size, image_size):\n",
    "                warnings.warn(\"Unexpected image shape: {}\".format(image_data.shape))\n",
    "                continue\n",
    "            else:\n",
    "                images.append(image_data)\n",
    "    \n",
    "    if len(images)<min_num_images:\n",
    "        raise Exception(\"Minimum number of instances is {0}. Got {1} instead.\".format(min_num_images, len(images)))\n",
    "    dataset = np.ndarray(shape=(len(images), image_size, image_size))\n",
    "    \n",
    "    for i in range(len(images)):\n",
    "        dataset[i, :, :] = images[i]\n",
    "    print(\"Full dataset tensor:\", dataset.shape)\n",
    "    print(\"Mean:\", np.mean(dataset))\n",
    "    print(\"Standar deviation:\", np.std(dataset))\n",
    "    return dataset"
   ]
  },
  {
   "cell_type": "code",
   "execution_count": 12,
   "metadata": {},
   "outputs": [],
   "source": [
    "def pickle_folder_data(folder, min_num_images_per_class, force):\n",
    "    set_filename = \"{}.pickle\".format(folder)\n",
    "    if not force and os.path.exists(set_filename):\n",
    "        print(\"{} already exists. Skipping pickling\".format(set_filename))\n",
    "    else:\n",
    "        dataset = load_letter(folder, min_num_images_per_class, parallel=False)\n",
    "        try:\n",
    "            with open(set_filename,\"wb\") as f:\n",
    "                pickle.dump(dataset, f)\n",
    "        except Exception as e:\n",
    "            print(\"Unable to save {}\".format(set_filename), e)\n",
    "            return\n",
    "    return set_filename\n",
    "\n",
    "def maybe_pickle(data_folders, min_num_images_per_class, force=False):\n",
    "    dataset_names = Parallel(n_jobs=-1)(delayed(pickle_folder_data)(\n",
    "        folder, min_num_images_per_class, force)for folder in data_folders)\n",
    "    return dataset_names"
   ]
  },
  {
   "cell_type": "code",
   "execution_count": 13,
   "metadata": {},
   "outputs": [
    {
     "name": "stdout",
     "output_type": "stream",
     "text": [
      "data/notMNIST_large/B 128\n",
      "data/notMNIST_large/A 128\n",
      "data/notMNIST_large/C 128\n",
      "data/notMNIST_large/D 128\n",
      "data/notMNIST_large/H 128\n",
      "data/notMNIST_large/F 128\n",
      "data/notMNIST_large/G 128\n",
      "data/notMNIST_large/E 128\n",
      "Couldn't read data/notMNIST_large/A/RnJlaWdodERpc3BCb29rSXRhbGljLnR0Zg==.png Could not find a format to read the specified file in mode 'i'\n",
      "Couldn't read data/notMNIST_large/A/SG90IE11c3RhcmQgQlROIFBvc3Rlci50dGY=.png Could not find a format to read the specified file in mode 'i'\n",
      "Couldn't read data/notMNIST_large/D/VHJhbnNpdCBCb2xkLnR0Zg==.png Could not find a format to read the specified file in mode 'i'\n",
      "Couldn't read data/notMNIST_large/A/Um9tYW5hIEJvbGQucGZi.png Could not find a format to read the specified file in mode 'i'\n",
      "Couldn't read data/notMNIST_large/B/TmlraXNFRi1TZW1pQm9sZEl0YWxpYy5vdGY=.png Could not find a format to read the specified file in mode 'i'\n",
      "Full dataset tensor: (52912, 28, 28)\n",
      "Mean: -0.2873110004763878\n",
      "Full dataset tensor: (52912, 28, 28)\n",
      "Full dataset tensor: (52912, 28, 28)\n",
      "Mean: -0.19233036595068034\n",
      "Mean: -0.14041524676049288\n",
      "Full dataset tensor: (52911, 28, 28)\n",
      "Full dataset tensor: (52911, 28, 28)\n",
      "Full dataset tensor: (52909, 28, 28)\n",
      "Full dataset tensor: (52912, 28, 28)\n",
      "Mean: -0.11819360715809259\n",
      "Standar deviation: 0.8761765614482474\n",
      "Mean: -0.0189732451724382\n",
      "Mean: -0.2594046197551697\n",
      "Mean: -0.2540915764458908\n",
      "Standar deviation: 0.8889934888513685\n",
      "Full dataset tensor: (52912, 28, 28)\n",
      "Standar deviation: 0.9049146224166659\n",
      "Mean: -0.1431581919487372\n",
      "Standar deviation: 0.9077352950646761\n",
      "Standar deviation: 0.9054321028858417\n",
      "Standar deviation: 0.8827793963957103\n",
      "Standar deviation: 0.8906860574211524\n",
      "data/notMNIST_large/I 128\n",
      "Standar deviation: 0.90234463070574\n",
      "data/notMNIST_large/J 128\n",
      "Full dataset tensor: (52912, 28, 28)\n",
      "Mean: 0.05742568552104515\n",
      "Standar deviation: 0.9341338991662429\n",
      "Full dataset tensor: (52911, 28, 28)\n",
      "Mean: -0.30942483716037017\n",
      "Standar deviation: 0.8838466707277122\n"
     ]
    }
   ],
   "source": [
    "train_datasets = maybe_pickle(train_folders, 45000)"
   ]
  },
  {
   "cell_type": "code",
   "execution_count": 14,
   "metadata": {},
   "outputs": [
    {
     "name": "stdout",
     "output_type": "stream",
     "text": [
      "data/notMNIST_small/C 128\n",
      "data/notMNIST_small/B 128\n",
      "data/notMNIST_small/A 128\n",
      "data/notMNIST_small/G 128\n",
      "data/notMNIST_small/F 128\n",
      "data/notMNIST_small/H 128\n",
      "data/notMNIST_small/E 128\n",
      "data/notMNIST_small/D 128\n",
      "Couldn't read data/notMNIST_small/F/Q3Jvc3NvdmVyIEJvbGRPYmxpcXVlLnR0Zg==.png Could not find a format to read the specified file in mode 'i'\n",
      "Couldn't read data/notMNIST_small/A/RGVtb2NyYXRpY2FCb2xkT2xkc3R5bGUgQm9sZC50dGY=.png Could not find a format to read the specified file in mode 'i'\n",
      "Full dataset tensor: (1872, 28, 28)\n",
      "Full dataset tensor: (1873, 28, 28)\n",
      "Mean: -0.1232676994065779\n",
      "Mean: -0.12082624077776143\n",
      "Full dataset tensor: (1873, 28, 28)\n",
      "Mean: -0.10195507967852785\n",
      "Standar deviation: 0.9139338288341073\n",
      "Full dataset tensor: (1872, 28, 28)\n",
      "Full dataset tensor: (1872, 28, 28)\n",
      "Standar deviation: 0.9111262733434989\n",
      "Mean: -0.2681228368876597\n",
      "Mean: -0.239353586486678\n",
      "Standar deviation: 0.9159260080119535\n",
      "data/notMNIST_small/I 128\n",
      "Full dataset tensor: (1872, 28, 28)\n",
      "Full dataset tensor: (1873, 28, 28)\n",
      "Full dataset tensor: (1873, 28, 28)\n",
      "Mean: -0.2858417015990526\n",
      "Mean: 0.006764070876281639\n",
      "Standar deviation: 0.8867782908435133\n",
      "Mean: -0.18828383811206775\n",
      "data/notMNIST_small/J 128\n",
      "Standar deviation: 0.9106595092468976\n",
      "Standar deviation: 0.881922009471604\n",
      "Standar deviation: 0.9010238060553076\n",
      "Standar deviation: 0.8945038898154501\n",
      "Full dataset tensor: (1872, 28, 28)\n",
      "Mean: -0.30609957011149813\n",
      "Standar deviation: 0.892527059567986\n",
      "Full dataset tensor: (1872, 28, 28)\n",
      "Mean: 0.10097258930615516\n",
      "Standar deviation: 0.9401003073685176\n"
     ]
    }
   ],
   "source": [
    "test_datasets = maybe_pickle(test_folders, 1800)"
   ]
  },
  {
   "cell_type": "code",
   "execution_count": 15,
   "metadata": {},
   "outputs": [
    {
     "data": {
      "text/plain": [
       "['data/notMNIST_large/A.pickle',\n",
       " 'data/notMNIST_large/B.pickle',\n",
       " 'data/notMNIST_large/C.pickle',\n",
       " 'data/notMNIST_large/D.pickle',\n",
       " 'data/notMNIST_large/E.pickle',\n",
       " 'data/notMNIST_large/F.pickle',\n",
       " 'data/notMNIST_large/G.pickle',\n",
       " 'data/notMNIST_large/H.pickle',\n",
       " 'data/notMNIST_large/I.pickle',\n",
       " 'data/notMNIST_large/J.pickle']"
      ]
     },
     "execution_count": 15,
     "metadata": {},
     "output_type": "execute_result"
    }
   ],
   "source": [
    "train_datasets"
   ]
  },
  {
   "cell_type": "code",
   "execution_count": 16,
   "metadata": {},
   "outputs": [
    {
     "data": {
      "text/plain": [
       "['data/notMNIST_small/A.pickle',\n",
       " 'data/notMNIST_small/B.pickle',\n",
       " 'data/notMNIST_small/C.pickle',\n",
       " 'data/notMNIST_small/D.pickle',\n",
       " 'data/notMNIST_small/E.pickle',\n",
       " 'data/notMNIST_small/F.pickle',\n",
       " 'data/notMNIST_small/G.pickle',\n",
       " 'data/notMNIST_small/H.pickle',\n",
       " 'data/notMNIST_small/I.pickle',\n",
       " 'data/notMNIST_small/J.pickle']"
      ]
     },
     "execution_count": 16,
     "metadata": {},
     "output_type": "execute_result"
    }
   ],
   "source": [
    "test_datasets"
   ]
  },
  {
   "cell_type": "code",
   "execution_count": 17,
   "metadata": {},
   "outputs": [],
   "source": [
    "labels_dict = dict()\n",
    "\n",
    "def merge_datasets(pickle_files, train_size=0.8, validation_size=0.1):\n",
    "    datasets = deque()\n",
    "    labels = deque()\n",
    "    for f in pickle_files:\n",
    "        label = ntpath.basename(f).split(\".\")[0]\n",
    "        labels_dict.setdefault(label, len(labels_dict))\n",
    "        \n",
    "        dataset = pickle.load(open(f,'rb'))\n",
    "        datasets.append(dataset)\n",
    "        labels.append(np.ones(len(dataset))*labels_dict[label])\n",
    "    datasets = np.concatenate(datasets, axis=0)\n",
    "    labels = np.concatenate(labels, axis=0)\n",
    "    print(\"Dataset shape is: {0}\\nLabels shape is: {1}\".format(datasets.shape, labels.shape))\n",
    "    \n",
    "    permutation = np.random.permutation(len(datasets))\n",
    "    return datasets[permutation,:,:], labels[permutation]"
   ]
  },
  {
   "cell_type": "code",
   "execution_count": 18,
   "metadata": {},
   "outputs": [
    {
     "name": "stdout",
     "output_type": "stream",
     "text": [
      "Dataset shape is: (529114, 28, 28)\n",
      "Labels shape is: (529114,)\n",
      "Dataset shape is: (18724, 28, 28)\n",
      "Labels shape is: (18724,)\n"
     ]
    }
   ],
   "source": [
    "train_X, train_y = merge_datasets(train_datasets)\n",
    "test_X, test_y = merge_datasets(test_datasets)"
   ]
  },
  {
   "cell_type": "code",
   "execution_count": 44,
   "metadata": {},
   "outputs": [],
   "source": [
    "pickle_file = os.path.join(data_root, 'notMNIST.pickle')\n",
    "try:\n",
    "    with open(pickle_file, 'wb') as f:\n",
    "        pickle.dump({\n",
    "            \"train_X\":train_X,\n",
    "            \"train_y\":train_y,\n",
    "            \"test_X\":test_X,\n",
    "            \"test_y\":test_y,\n",
    "            \"labels_dict\":labels_dict\n",
    "        }, f)\n",
    "except Exception as e:\n",
    "    print(\"Could save the dataset: \",e)"
   ]
  },
  {
   "cell_type": "code",
   "execution_count": 45,
   "metadata": {},
   "outputs": [
    {
     "name": "stdout",
     "output_type": "stream",
     "text": [
      "Compressed pickle size: 3440423111\n"
     ]
    }
   ],
   "source": [
    "statinfo = os.stat(pickle_file)\n",
    "print('Compressed pickle size:', statinfo.st_size)"
   ]
  },
  {
   "cell_type": "code",
   "execution_count": 22,
   "metadata": {},
   "outputs": [
    {
     "name": "stdout",
     "output_type": "stream",
     "text": [
      "(529114, 784) (18724, 784)\n"
     ]
    }
   ],
   "source": [
    "train_X = np.array([i.flatten() for i in train_X])\n",
    "test_X = np.array([i.flatten() for i in test_X])\n",
    "print(train_X.shape, test_X.shape)"
   ]
  },
  {
   "cell_type": "code",
   "execution_count": 24,
   "metadata": {
    "scrolled": false
   },
   "outputs": [
    {
     "data": {
      "image/png": "[encoded data removed]",
      "text/plain": [
       "<matplotlib.figure.Figure at 0x7fc2209329e8>"
      ]
     },
     "metadata": {},
     "output_type": "display_data"
    },
    {
     "data": {
      "image/png": "[encoded data removed]",
      "text/plain": [
       "<matplotlib.figure.Figure at 0x7fc2208ea588>"
      ]
     },
     "metadata": {},
     "output_type": "display_data"
    },
    {
     "data": {
      "image/png": "[encoded data removed]",
      "text/plain": [
       "<matplotlib.figure.Figure at 0x7fc22088e5c0>"
      ]
     },
     "metadata": {},
     "output_type": "display_data"
    },
    {
     "data": {
      "image/png": "[encoded data removed]",
      "text/plain": [
       "<matplotlib.figure.Figure at 0x7fc2208927f0>"
      ]
     },
     "metadata": {},
     "output_type": "display_data"
    },
    {
     "data": {
      "image/png": "[encoded data removed]",
      "text/plain": [
       "<matplotlib.figure.Figure at 0x7fc220942ba8>"
      ]
     },
     "metadata": {},
     "output_type": "display_data"
    },
    {
     "data": {
      "image/png": "[encoded data removed]",
      "text/plain": [
       "<matplotlib.figure.Figure at 0x7fc23f86f9b0>"
      ]
     },
     "metadata": {},
     "output_type": "display_data"
    },
    {
     "data": {
      "image/png": "[encoded data removed]",
      "text/plain": [
       "<matplotlib.figure.Figure at 0x7fc2208e13c8>"
      ]
     },
     "metadata": {},
     "output_type": "display_data"
    },
    {
     "data": {
      "image/png": "[encoded data removed]",
      "text/plain": [
       "<matplotlib.figure.Figure at 0x7fc220952f28>"
      ]
     },
     "metadata": {},
     "output_type": "display_data"
    },
    {
     "data": {
      "image/png": "[encoded data removed]",
      "text/plain": [
       "<matplotlib.figure.Figure at 0x7fc2208c17b8>"
      ]
     },
     "metadata": {},
     "output_type": "display_data"
    },
    {
     "data": {
      "image/png": "[encoded data removed]",
      "text/plain": [
       "<matplotlib.figure.Figure at 0x7fc22091b550>"
      ]
     },
     "metadata": {},
     "output_type": "display_data"
    }
   ],
   "source": [
    "for i in range(10):\n",
    "    plt.figure(figsize=(1,1))\n",
    "    img_mat = train_X[np.random.choice(range(len(train_X)-1))].reshape(image_size, image_size)\n",
    "    plt.imshow(img_mat, cmap='gray')\n",
    "    plt.show()"
   ]
  }
 ],
 "metadata": {
  "kernelspec": {
   "display_name": "Python 3",
   "language": "python",
   "name": "python3"
  },
  "language_info": {
   "codemirror_mode": {
    "name": "ipython",
    "version": 3
   },
   "file_extension": ".py",
   "mimetype": "text/x-python",
   "name": "python",
   "nbconvert_exporter": "python",
   "pygments_lexer": "ipython3",
   "version": "3.5.2"
  }
 },
 "nbformat": 4,
 "nbformat_minor": 2
}
